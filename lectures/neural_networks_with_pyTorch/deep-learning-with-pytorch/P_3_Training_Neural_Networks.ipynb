{
 "cells": [
  {
   "cell_type": "markdown",
   "metadata": {},
   "source": [
    "# Training Neural Networks\n",
    "\n",
    "The network we built in the previous part isn't so smart, it doesn't know anything about our handwritten digits. Neural networks with non-linear activations work like universal function approximators. There is some function that maps your input to the output. For example, images of handwritten digits to class probabilities. The power of neural networks is that we can train them to approximate this function, and basically any function given enough data and compute time.\n",
    "\n",
    "<img src=\"../../../images/AI_Programming_with_Python_ND_P2_L_07.png\" width=500px>\n",
    "\n",
    "At first the network is naive, it doesn't know the function mapping the inputs to the outputs. We train the network by showing it examples of real data, then adjusting the network parameters such that it approximates this function.\n",
    "\n",
    "To find these parameters, we need to know how poorly the network is predicting the real outputs. For this we calculate a **loss function** (also called the cost), a measure of our prediction error. For example, the mean squared loss is often used in regression and binary classification problems\n",
    "\n",
    "$$\n",
    "\\large \\ell = \\frac{1}{2n}\\sum_i^n{\\left(y_i - \\hat{y}_i\\right)^2}\n",
    "$$\n",
    "\n",
    "where $n$ is the number of training examples, $y_i$ are the true labels, and $\\hat{y}_i$ are the predicted labels.\n",
    "\n",
    "By minimizing this loss with respect to the network parameters, we can find configurations where the loss is at a minimum and the network is able to predict the correct labels with high accuracy. We find this minimum using a process called **gradient descent**. The gradient is the slope of the loss function and points in the direction of fastest change. To get to the minimum in the least amount of time, we then want to follow the gradient (downwards). You can think of this like descending a mountain by following the steepest slope to the base.\n",
    "\n",
    "<img src='../../../images/AI_Programming_with_Python_ND_P2_L_08.png' width=350px>"
   ]
  },
  {
   "cell_type": "markdown",
   "metadata": {},
   "source": [
    "## Backpropagation\n",
    "\n",
    "For single layer networks, gradient descent is straightforward to implement. However, it's more complicated for deeper, multilayer neural networks like the one we've built. Complicated enough that it took about 30 years before researchers figured out how to train multilayer networks.\n",
    "\n",
    "Training multilayer networks is done through **backpropagation** which is really just an application of the chain rule from calculus. It's easiest to understand if we convert a two layer network into a graph representation.\n",
    "\n",
    "<img src='../../../images/AI_Programming_with_Python_ND_P2_L_09.png' width=550px>\n",
    "\n",
    "In the forward pass through the network, our data and operations go from bottom to top here. We pass the input $x$ through a linear transformation $L_1$ with weights $W_1$ and biases $b_1$. The output then goes through the sigmoid operation $S$ and another linear transformation $L_2$. Finally we calculate the loss $\\ell$. We use the loss as a measure of how bad the network's predictions are. The goal then is to adjust the weights and biases to minimize the loss.\n",
    "\n",
    "To train the weights with gradient descent, we propagate the gradient of the loss backwards through the network. Each operation has some gradient between the inputs and outputs. As we send the gradients backwards, we multiply the incoming gradient with the gradient for the operation. Mathematically, this is really just calculating the gradient of the loss with respect to the weights using the chain rule.\n",
    "\n",
    "$$\n",
    "\\large \\frac{\\partial \\ell}{\\partial W_1} = \\frac{\\partial L_1}{\\partial W_1} \\frac{\\partial S}{\\partial L_1} \\frac{\\partial L_2}{\\partial S} \\frac{\\partial \\ell}{\\partial L_2}\n",
    "$$\n",
    "\n",
    "**Note:** I'm glossing over a few details here that require some knowledge of vector calculus, but they aren't necessary to understand what's going on.\n",
    "\n",
    "We update our weights using this gradient with some learning rate $\\alpha$. \n",
    "\n",
    "$$\n",
    "\\large W^\\prime_1 = W_1 - \\alpha \\frac{\\partial \\ell}{\\partial W_1}\n",
    "$$\n",
    "\n",
    "The learning rate $\\alpha$ is set such that the weight update steps are small enough that the iterative method settles in a minimum."
   ]
  },
  {
   "cell_type": "markdown",
   "metadata": {},
   "source": [
    "## Losses in PyTorch\n",
    "\n",
    "Let's start by seeing how we calculate the loss with PyTorch. Through the `nn` module, PyTorch provides losses such as the cross-entropy loss (`nn.CrossEntropyLoss`). You'll usually see the loss assigned to `criterion`. As noted in the last part, with a classification problem such as MNIST, we're using the softmax function to predict class probabilities. With a softmax output, you want to use cross-entropy as the loss. To actually calculate the loss, you first define the criterion then pass in the output of your network and the correct labels.\n",
    "\n",
    "Something really important to note here. Looking at [the documentation for `nn.CrossEntropyLoss`](https://pytorch.org/docs/stable/nn.html#torch.nn.CrossEntropyLoss),\n",
    "\n",
    "> This criterion combines `nn.LogSoftmax()` and `nn.NLLLoss()` in one single class.\n",
    ">\n",
    "> The input is expected to contain scores for each class.\n",
    "\n",
    "This means we need to pass in the raw output of our network into the loss, not the output of the softmax function. This raw output is usually called the *logits* or *scores*. We use the logits because softmax gives you probabilities which will often be very close to zero or one but floating-point numbers can't accurately represent values near zero or one ([read more here](https://docs.python.org/3/tutorial/floatingpoint.html)). It's usually best to avoid doing calculations with probabilities, typically we use log-probabilities."
   ]
  },
  {
   "cell_type": "code",
   "execution_count": 1,
   "metadata": {},
   "outputs": [],
   "source": [
    "# The MNIST datasets are hosted on yann.lecun.com that has moved under CloudFlare protection\n",
    "# Run this script to enable the datasets download\n",
    "# Reference: https://github.com/pytorch/vision/issues/1938\n",
    "\n",
    "from six.moves import urllib\n",
    "opener = urllib.request.build_opener()\n",
    "opener.addheaders = [('User-agent', 'Mozilla/5.0')]\n",
    "urllib.request.install_opener(opener)"
   ]
  },
  {
   "cell_type": "code",
   "execution_count": 1,
   "metadata": {},
   "outputs": [],
   "source": [
    "import torch\n",
    "from torch import nn\n",
    "import torch.nn.functional as F\n",
    "from torchvision import datasets, transforms\n",
    "\n",
    "# Define a transform to normalize the data\n",
    "transform = transforms.Compose([transforms.ToTensor(),\n",
    "                                transforms.Normalize((0.5,), (0.5,)),\n",
    "                              ])\n",
    "# Download and load the training data\n",
    "trainset = datasets.MNIST('~/.pytorch/MNIST_data/', download=True, train=True, transform=transform)\n",
    "trainloader = torch.utils.data.DataLoader(trainset, batch_size=64, shuffle=True)"
   ]
  },
  {
   "cell_type": "code",
   "execution_count": 2,
   "metadata": {},
   "outputs": [
    {
     "name": "stdout",
     "output_type": "stream",
     "text": [
      "tensor(2.3205, grad_fn=<NllLossBackward0>)\n"
     ]
    }
   ],
   "source": [
    "# Build a feed-forward network\n",
    "model = nn.Sequential(nn.Linear(784, 128),\n",
    "                      nn.ReLU(),\n",
    "                      nn.Linear(128, 64),\n",
    "                      nn.ReLU(),\n",
    "                      nn.Linear(64, 10))\n",
    "\n",
    "# Define the loss\n",
    "criterion = nn.CrossEntropyLoss()\n",
    "\n",
    "# Get our data\n",
    "images, labels = next(iter(trainloader))\n",
    "# Flatten images\n",
    "images = images.view(images.shape[0], -1)\n",
    "\n",
    "# Forward pass, get our logits\n",
    "logits = model(images)\n",
    "# Calculate the loss with the logits and the labels\n",
    "loss = criterion(logits, labels)\n",
    "\n",
    "print(loss)"
   ]
  },
  {
   "cell_type": "markdown",
   "metadata": {},
   "source": [
    "In my experience it's more convenient to build the model with a log-softmax output using `nn.LogSoftmax` or `F.log_softmax` ([documentation](https://pytorch.org/docs/stable/nn.html#torch.nn.LogSoftmax)). Then you can get the actual probabilites by taking the exponential `torch.exp(output)`. With a log-softmax output, you want to use the negative log likelihood loss, `nn.NLLLoss` ([documentation](https://pytorch.org/docs/stable/nn.html#torch.nn.NLLLoss)).\n",
    "\n",
    ">**Exercise:** Build a model that returns the log-softmax as the output and calculate the loss using the negative log likelihood loss."
   ]
  },
  {
   "cell_type": "code",
   "execution_count": 3,
   "metadata": {},
   "outputs": [
    {
     "name": "stdout",
     "output_type": "stream",
     "text": [
      "tensor(2.3136, grad_fn=<NllLossBackward0>)\n"
     ]
    }
   ],
   "source": [
    "## Solution\n",
    "\n",
    "# Build a feed-forward network\n",
    "model = nn.Sequential(nn.Linear(784, 128),\n",
    "                      nn.ReLU(),\n",
    "                      nn.Linear(128, 64),\n",
    "                      nn.ReLU(),\n",
    "                      nn.Linear(64, 10),\n",
    "                      nn.LogSoftmax(dim=1))\n",
    "\n",
    "# Define the loss\n",
    "criterion = nn.NLLLoss()\n",
    "\n",
    "# Get our data\n",
    "images, labels = next(iter(trainloader))\n",
    "# Flatten images\n",
    "images = images.view(images.shape[0], -1)\n",
    "\n",
    "# Forward pass, get our log-probabilities\n",
    "logps = model(images)\n",
    "# Calculate the loss with the logps and the labels\n",
    "loss = criterion(logps, labels)\n",
    "\n",
    "print(loss)"
   ]
  },
  {
   "cell_type": "markdown",
   "metadata": {},
   "source": [
    "## Autograd\n",
    "\n",
    "Now that we know how to calculate a loss, how do we use it to perform backpropagation? Torch provides a module, `autograd`, for automatically calculating the gradients of tensors. We can use it to calculate the gradients of all our parameters with respect to the loss. Autograd works by keeping track of operations performed on tensors, then going backwards through those operations, calculating gradients along the way. To make sure PyTorch keeps track of operations on a tensor and calculates the gradients, you need to set `requires_grad = True` on a tensor. You can do this at creation with the `requires_grad` keyword, or at any time with `x.requires_grad_(True)`.\n",
    "\n",
    "You can turn off gradients for a block of code with the `torch.no_grad()` content:\n",
    "```python\n",
    "x = torch.zeros(1, requires_grad=True)\n",
    ">>> with torch.no_grad():\n",
    "...     y = x * 2\n",
    ">>> y.requires_grad\n",
    "False\n",
    "```\n",
    "\n",
    "Also, you can turn on or off gradients altogether with `torch.set_grad_enabled(True|False)`.\n",
    "\n",
    "The gradients are computed with respect to some variable `z` with `z.backward()`. This does a backward pass through the operations that created `z`."
   ]
  },
  {
   "cell_type": "code",
   "execution_count": 4,
   "metadata": {},
   "outputs": [
    {
     "name": "stdout",
     "output_type": "stream",
     "text": [
      "tensor([[-0.0079,  0.1623],\n",
      "        [ 0.8758,  0.3653]], requires_grad=True)\n"
     ]
    }
   ],
   "source": [
    "x = torch.randn(2,2, requires_grad=True)\n",
    "print(x)"
   ]
  },
  {
   "cell_type": "code",
   "execution_count": 5,
   "metadata": {},
   "outputs": [
    {
     "name": "stdout",
     "output_type": "stream",
     "text": [
      "tensor([[6.2122e-05, 2.6335e-02],\n",
      "        [7.6697e-01, 1.3342e-01]], grad_fn=<PowBackward0>)\n"
     ]
    }
   ],
   "source": [
    "y = x**2\n",
    "print(y)"
   ]
  },
  {
   "cell_type": "markdown",
   "metadata": {},
   "source": [
    "Below we can see the operation that created `y`, a power operation `PowBackward0`."
   ]
  },
  {
   "cell_type": "code",
   "execution_count": 7,
   "metadata": {},
   "outputs": [
    {
     "name": "stdout",
     "output_type": "stream",
     "text": [
      "<PowBackward0 object at 0x16dbc1d90>\n"
     ]
    }
   ],
   "source": [
    "## grad_fn shows the function that generated this variable\n",
    "print(y.grad_fn)"
   ]
  },
  {
   "cell_type": "markdown",
   "metadata": {},
   "source": [
    "The autograd module keeps track of these operations and knows how to calculate the gradient for each one. In this way, it's able to calculate the gradients for a chain of operations, with respect to any one tensor. Let's reduce the tensor `y` to a scalar value, the mean."
   ]
  },
  {
   "cell_type": "code",
   "execution_count": 8,
   "metadata": {},
   "outputs": [
    {
     "name": "stdout",
     "output_type": "stream",
     "text": [
      "tensor(0.2317, grad_fn=<MeanBackward0>)\n"
     ]
    }
   ],
   "source": [
    "z = y.mean()\n",
    "print(z)"
   ]
  },
  {
   "cell_type": "markdown",
   "metadata": {},
   "source": [
    "You can check the gradients for `x` and `y` but they are empty currently."
   ]
  },
  {
   "cell_type": "code",
   "execution_count": 9,
   "metadata": {},
   "outputs": [
    {
     "name": "stdout",
     "output_type": "stream",
     "text": [
      "None\n"
     ]
    }
   ],
   "source": [
    "print(x.grad)"
   ]
  },
  {
   "cell_type": "markdown",
   "metadata": {},
   "source": [
    "To calculate the gradients, you need to run the `.backward` method on a Variable, `z` for example. This will calculate the gradient for `z` with respect to `x`\n",
    "\n",
    "$$\n",
    "\\frac{\\partial z}{\\partial x} = \\frac{\\partial}{\\partial x}\\left[\\frac{1}{n}\\sum_i^n x_i^2\\right] = \\frac{x}{2}\n",
    "$$"
   ]
  },
  {
   "cell_type": "markdown",
   "metadata": {},
   "source": [
    "---\n",
    "\n",
    "# Mathematical Derivation: Computing Gradients for Mean of Squared Elements\n",
    "\n",
    "###### Problem Setup\n",
    "\n",
    "Given a tensor $x$ that is a 2×2 matrix:\n",
    "$$x = \\begin{bmatrix} x_{11} & x_{12} \\\\ x_{21} & x_{22} \\end{bmatrix}$$\n",
    "\n",
    "We perform two operations:\n",
    "1. Element-wise squaring: $y = x^2$\n",
    "2. Mean computation: $z = y.\\text{mean}()$\n",
    "\n",
    "Our goal is to find $\\frac{\\partial z}{\\partial x}$.\n",
    "\n",
    "###### Mathematical Expression of z\n",
    "\n",
    "The mean of all elements in the squared tensor is:\n",
    "$$z = \\frac{1}{n} \\sum_{i,j} x_{ij}^2$$\n",
    "\n",
    "For a 2×2 tensor, $n = 4$, so:\n",
    "$$z = \\frac{1}{4}(x_{11}^2 + x_{12}^2 + x_{21}^2 + x_{22}^2)$$\n",
    "\n",
    "###### Computing Partial Derivatives\n",
    "\n",
    "To find the gradient with respect to any element $x_{ij}$:\n",
    "$$\\frac{\\partial z}{\\partial x_{ij}} = \\frac{\\partial}{\\partial x_{ij}} \\left[ \\frac{1}{4}(x_{11}^2 + x_{12}^2 + x_{21}^2 + x_{22}^2) \\right]$$\n",
    "\n",
    "Using the constant factor rule and the fact that only the term $x_{ij}^2$ depends on $x_{ij}$:\n",
    "$$\\frac{\\partial z}{\\partial x_{ij}} = \\frac{1}{4} \\cdot \\frac{\\partial}{\\partial x_{ij}}[x_{ij}^2] = \\frac{1}{4} \\cdot 2x_{ij} = \\frac{x_{ij}}{2}$$\n",
    "\n",
    "###### General Result\n",
    "\n",
    "Since this derivation applies to every element in the tensor:\n",
    "$$\\frac{\\partial z}{\\partial x} = \\frac{x}{2}$$\n",
    "\n",
    "This means each element of the gradient is exactly half the corresponding element of the original tensor.\n",
    "\n",
    "###### Numerical Verification\n",
    "\n",
    "Consider $x = \\begin{bmatrix} 0.5 & -1.0 \\\\ 0.2 & 0.8 \\end{bmatrix}$\n",
    "\n",
    "**Analytical gradient:**\n",
    "$$\\frac{\\partial z}{\\partial x} = \\frac{x}{2} = \\begin{bmatrix} 0.25 & -0.5 \\\\ 0.1 & 0.4 \\end{bmatrix}$$\n",
    "\n",
    "**PyTorch computation:**\n",
    "```python\n",
    "x = torch.tensor([[0.5, -1.0], [0.2, 0.8]], requires_grad=True)\n",
    "y = x**2\n",
    "z = y.mean()\n",
    "z.backward()\n",
    "print(x.grad)  # Output: [[0.25, -0.5], [0.1, 0.4]]\n",
    "```\n",
    "\n",
    "The analytical and computational results match exactly, confirming our derivation.\n",
    "\n",
    "###### Key Insights\n",
    "\n",
    "The gradient $\\frac{\\partial z}{\\partial x} = \\frac{x}{2}$ reveals:\n",
    "- The gradient is directly proportional to the input values\n",
    "- Larger absolute values in $x$ produce larger gradient magnitudes\n",
    "- The sign of each gradient component matches the sign of the corresponding input element\n",
    "- The factor of $\\frac{1}{2}$ comes from the combination of the power rule (factor of 2) and the mean operation (factor of $\\frac{1}{4}$ for a 2×2 tensor)\n",
    "\n",
    "---"
   ]
  },
  {
   "cell_type": "markdown",
   "metadata": {},
   "source": [
    "# Understanding PyTorch's Automatic Differentiation: The Backward Pass\n",
    "\n",
    "###### The Sequential Process\n",
    "\n",
    "The computational flow follows a precise sequence:\n",
    "\n",
    "**1. Initial State**\n",
    "```python\n",
    "x = torch.tensor([[0.5, -1.0], [0.2, 0.8]], requires_grad=True)\n",
    "print(x.grad)  # Output: None\n",
    "```\n",
    "Before any backward pass, `x.grad` is `None` because no gradients have been computed.\n",
    "\n",
    "**2. Forward Pass**\n",
    "```python\n",
    "y = x**2\n",
    "z = y.mean()\n",
    "```\n",
    "PyTorch builds a computational graph tracking operations: `x → y → z`\n",
    "\n",
    "**3. Backward Pass Execution**\n",
    "```python\n",
    "z.backward()\n",
    "```\n",
    "PyTorch performs automatic differentiation by:\n",
    "- Traversing the computational graph in reverse: `z → y → x`\n",
    "- Applying the chain rule at each operation\n",
    "- Computing $\\frac{\\partial z}{\\partial x}$ using derivative rules\n",
    "- Storing the result in `x.grad`\n",
    "\n",
    "**4. Post-Backward State**\n",
    "```python\n",
    "print(x.grad)  # Output: tensor([[0.25, -0.5], [0.1, 0.4]])\n",
    "```\n",
    "Now `x.grad` contains the computed gradients.\n",
    "\n",
    "###### Verification of Automatic Differentiation\n",
    "\n",
    "The power of PyTorch's automatic differentiation becomes clear when comparing:\n",
    "\n",
    "```python\n",
    "print(x.grad)  # PyTorch's computed gradients\n",
    "print(x/2)     # Our analytical solution\n",
    "```\n",
    "\n",
    "Both produce identical results because PyTorch correctly implements the mathematical derivative we derived: $\\frac{\\partial z}{\\partial x} = \\frac{x}{2}$.\n",
    "\n",
    "###### The Critical Role of backward()\n",
    "\n",
    "Without calling `z.backward()`:\n",
    "```python\n",
    "# Before backward pass\n",
    "print(x.grad)  # None (no gradients computed)\n",
    "print(x/2)     # Still shows x/2 values (mathematical expression)\n",
    "\n",
    "# After backward pass\n",
    "z.backward()\n",
    "print(x.grad)  # Now contains computed gradients\n",
    "print(x/2)     # Same mathematical expression as before\n",
    "```\n",
    "\n",
    "###### Computational Graph and Chain Rule\n",
    "\n",
    "The automatic differentiation system:\n",
    "1. **Tracks operations** during the forward pass\n",
    "2. **Builds a computational graph** representing dependencies\n",
    "3. **Applies the chain rule** during backward pass to compute gradients\n",
    "4. **Accumulates gradients** in the `.grad` attribute of tensors with `requires_grad=True`\n",
    "\n",
    "This demonstrates that PyTorch's automatic differentiation engine accurately implements the same mathematical principles we can derive by hand, making it a reliable tool for gradient-based optimization in neural networks.\n",
    "\n",
    "---"
   ]
  },
  {
   "cell_type": "code",
   "execution_count": 10,
   "metadata": {},
   "outputs": [
    {
     "name": "stdout",
     "output_type": "stream",
     "text": [
      "tensor([[-0.0039,  0.0811],\n",
      "        [ 0.4379,  0.1826]])\n",
      "tensor([[-0.0039,  0.0811],\n",
      "        [ 0.4379,  0.1826]], grad_fn=<DivBackward0>)\n"
     ]
    }
   ],
   "source": [
    "\"\"\"\n",
    "Perform backward propagation and gradient computation demonstration.\n",
    "\n",
    "This code demonstrates automatic differentiation in PyTorch by:\n",
    "1. Computing gradients via backpropagation through the computational graph\n",
    "2. Displaying the computed gradients stored in x.grad\n",
    "3. Showing the analytical gradient calculation for verification\n",
    "\n",
    "Context:\n",
    "    x = torch.randn(2,2, requires_grad=True)  # Input tensor with gradient tracking\n",
    "    y = x**2                                   # Element-wise square operation\n",
    "    z = y.mean()                              # Mean of all elements\n",
    "\n",
    "Mathematical relationship:\n",
    "    z = (1/n) * Σ(x_i²) where n is total number of elements\n",
    "    ∂z/∂x = x/2 (analytical gradient)\n",
    "\n",
    "Returns:\n",
    "    None: Prints gradient information to console\n",
    "\n",
    "Output:\n",
    "    - x.grad: Computed gradients ∂z/∂x via automatic differentiation\n",
    "    - x/2: Analytical gradient for verification (should match x.grad)\n",
    "\n",
    "Example:\n",
    "    >>> x = torch.randn(2,2, requires_grad=True)\n",
    "    >>> y = x**2\n",
    "    >>> z = y.mean()\n",
    "    >>> z.backward()\n",
    "    >>> print(x.grad)    # Gradients computed by PyTorch\n",
    "    >>> print(x/2)       # Analytical gradients for verification\n",
    "    \n",
    "Note:\n",
    "    The outputs should be identical, demonstrating that PyTorch's\n",
    "    automatic differentiation correctly computes the analytical gradient.\n",
    "\"\"\"\n",
    "z.backward()\n",
    "\n",
    "print(x.grad)\n",
    "print(x/2)"
   ]
  },
  {
   "cell_type": "markdown",
   "metadata": {},
   "source": [
    "---\n",
    "\n",
    "These gradients calculations are particularly useful for neural networks. For training we need the gradients of the weights with respect to the cost. With PyTorch, we run data forward through the network to calculate the loss, then, go backwards to calculate the gradients with respect to the loss. Once we have the gradients we can make a gradient descent step. \n",
    "\n",
    "#### Loss and Autograd together\n",
    "\n",
    "When we create a network with PyTorch, all of the parameters are initialized with `requires_grad = True`. This means that when we calculate the loss and call `loss.backward()`, the gradients for the parameters are calculated. These gradients are used to update the weights with gradient descent. Below you can see an example of calculating the gradients using a backwards pass.\n",
    "\n",
    "---"
   ]
  },
  {
   "cell_type": "code",
   "execution_count": 15,
   "metadata": {},
   "outputs": [
    {
     "name": "stdout",
     "output_type": "stream",
     "text": [
      "tensor(2.2924, grad_fn=<NllLossBackward0>)\n"
     ]
    }
   ],
   "source": [
    "# Build a feed-forward network\n",
    "model = nn.Sequential(nn.Linear(784, 128),\n",
    "                      nn.ReLU(),\n",
    "                      nn.Linear(128, 64),\n",
    "                      nn.ReLU(),\n",
    "                      nn.Linear(64, 10),\n",
    "                      nn.LogSoftmax(dim=1))\n",
    "\n",
    "criterion = nn.NLLLoss()\n",
    "images, labels = next(iter(trainloader))\n",
    "images = images.view(images.shape[0], -1)\n",
    "\n",
    "logps = model(images)\n",
    "loss = criterion(logps, labels)\n",
    "print(loss)"
   ]
  },
  {
   "cell_type": "code",
   "execution_count": 16,
   "metadata": {},
   "outputs": [
    {
     "name": "stdout",
     "output_type": "stream",
     "text": [
      "Before backward pass: \n",
      " None\n",
      "After backward pass: \n",
      " tensor([[-0.0019, -0.0019, -0.0019,  ..., -0.0019, -0.0019, -0.0019],\n",
      "        [-0.0000, -0.0000, -0.0000,  ..., -0.0000, -0.0000, -0.0000],\n",
      "        [ 0.0005,  0.0005,  0.0005,  ...,  0.0005,  0.0005,  0.0005],\n",
      "        ...,\n",
      "        [-0.0007, -0.0007, -0.0007,  ..., -0.0007, -0.0007, -0.0007],\n",
      "        [ 0.0024,  0.0024,  0.0024,  ...,  0.0024,  0.0024,  0.0024],\n",
      "        [-0.0015, -0.0015, -0.0015,  ..., -0.0015, -0.0015, -0.0015]])\n"
     ]
    }
   ],
   "source": [
    "# model[0] is the 1st layer (input layer)\n",
    "\n",
    "print('Before backward pass: \\n', model[0].weight.grad)\n",
    "\n",
    "loss.backward()\n",
    "\n",
    "print('After backward pass: \\n', model[0].weight.grad)"
   ]
  },
  {
   "cell_type": "markdown",
   "metadata": {},
   "source": [
    "## Training the network!\n",
    "\n",
    "There's one last piece we need to start training, an optimizer that we'll use to update the weights with the gradients. We get these from PyTorch's [`optim` package](https://pytorch.org/docs/stable/optim.html). For example we can use stochastic gradient descent with `optim.SGD`. You can see how to define an optimizer below."
   ]
  },
  {
   "cell_type": "code",
   "execution_count": 19,
   "metadata": {},
   "outputs": [],
   "source": [
    "from torch import optim\n",
    "\n",
    "# Optimizers require the parameters to optimize and a learning rate\n",
    "optimizer = optim.SGD(model.parameters(), lr=0.01)"
   ]
  },
  {
   "cell_type": "markdown",
   "metadata": {},
   "source": [
    "Now we know how to use all the individual parts so it's time to see how they work together. Let's consider just one learning step before looping through all the data. The general process with PyTorch:\n",
    "\n",
    "* Make a forward pass through the network \n",
    "* Use the network output to calculate the loss\n",
    "* Perform a backward pass through the network with `loss.backward()` to calculate the gradients\n",
    "* Take a step with the optimizer to update the weights\n",
    "\n",
    "Below I'll go through one training step and print out the weights and gradients so you can see how it changes. Note that I have a line of code `optimizer.zero_grad()`. When you do multiple backwards passes with the same parameters, the gradients are accumulated. This means that you need to zero the gradients on each training pass or you'll retain gradients from previous training batches."
   ]
  },
  {
   "cell_type": "markdown",
   "metadata": {},
   "source": [
    "---\n",
    "\n",
    "##### Gradient Descent Weight Updates in Neural Networks\n",
    "\n",
    "###### Fundamental Concept: How Neural Networks Learn\n",
    "\n",
    "Neural networks learn by iteratively adjusting their weights to minimize prediction errors. This process, called **gradient descent**, follows a simple mathematical principle: move weights in the direction opposite to the gradient (steepest ascent) to find the minimum loss.\n",
    "\n",
    "###### The Mathematical Foundation\n",
    "\n",
    "**Gradient Descent Update Rule:**\n",
    "$$w_{new} = w_{old} - \\alpha \\nabla w$$\n",
    "\n",
    "Where:\n",
    "- $w_{old}$ = current weight value\n",
    "- $\\alpha$ = learning rate (step size)\n",
    "- $\\nabla w$ = gradient (partial derivative of loss with respect to weight)\n",
    "- $w_{new}$ = updated weight value\n",
    "\n",
    "**Why Subtract the Gradient?**\n",
    "The gradient points in the direction of steepest increase in the loss function. To minimize loss, we move in the opposite direction (hence the minus sign).\n",
    "\n",
    "###### The Training Process Breakdown\n",
    "\n",
    "**Step 1: Initialize**\n",
    "```python\n",
    "optimizer = optim.SGD(model.parameters(), lr=0.01)\n",
    "```\n",
    "Creates an SGD optimizer with learning rate α = 0.01.\n",
    "\n",
    "**Step 2: Clear Previous Gradients**\n",
    "```python\n",
    "optimizer.zero_grad()\n",
    "```\n",
    "Gradients accumulate by default in PyTorch, so we must clear them each iteration.\n",
    "\n",
    "**Step 3: Forward Pass**\n",
    "```python\n",
    "output = model(images)\n",
    "loss = criterion(output, labels)\n",
    "```\n",
    "Compute predictions and measure error against true labels.\n",
    "\n",
    "**Step 4: Backward Pass**\n",
    "```python\n",
    "loss.backward()\n",
    "```\n",
    "Computes gradients using backpropagation and chain rule.\n",
    "\n",
    "**Step 5: Weight Update**\n",
    "```python\n",
    "optimizer.step()\n",
    "```\n",
    "Applies the gradient descent formula to update all parameters.\n",
    "\n",
    "###### Detailed Numerical Verification\n",
    "\n",
    "Using the provided output with learning rate = 0.01:\n",
    "\n",
    "**Example 1: Weight that Decreases**\n",
    "- Initial weight: -0.0109\n",
    "- Computed gradient: +0.0011 (positive)\n",
    "- Calculation: $-0.0109 - (0.01 \\times 0.0011) = -0.0109 - 0.000011 = -0.011011$\n",
    "- Rounded result: -0.0110\n",
    "- Output verification: -0.0110 ✓\n",
    "\n",
    "**Example 2: Weight that Increases**  \n",
    "- Initial weight: -0.0199\n",
    "- Computed gradient: +0.0036 (positive)\n",
    "- Calculation: $-0.0199 - (0.01 \\times 0.0036) = -0.0199 - 0.000036 = -0.0199036$\n",
    "- Rounded result: -0.0199 (minimal change due to small gradient)\n",
    "- Output verification: -0.0199 ✓\n",
    "\n",
    "**Example 3: Larger Change**\n",
    "- Initial weight: -0.0345\n",
    "- Computed gradient: +0.0020 (positive)  \n",
    "- Calculation: $-0.0345 - (0.01 \\times 0.0020) = -0.0345 - 0.00002 = -0.03452$\n",
    "- Rounded result: -0.0346\n",
    "- Output verification: -0.0346 ✓\n",
    "\n",
    "###### Understanding Gradient Patterns\n",
    "\n",
    "**Gradient Structure Analysis:**\n",
    "The gradients show identical values across each row:\n",
    "```\n",
    "Row 1: [-0.0006, -0.0006, -0.0006, ...]  # All negative\n",
    "Row 2: [-0.0003, -0.0003, -0.0003, ...]  # All negative  \n",
    "Row 3: [+0.0002, +0.0002, +0.0002, ...]  # All positive\n",
    "```\n",
    "\n",
    "**Interpretation:**\n",
    "- Each row represents one output neuron (class)\n",
    "- Identical gradients within a row suggest the neuron needs uniform adjustment across all input features\n",
    "- Sign indicates direction: negative gradients → weights increase, positive gradients → weights decrease\n",
    "\n",
    "###### Learning Rate Impact\n",
    "\n",
    "**Small Learning Rate (0.01):**\n",
    "- Advantages: Stable learning, fine-tuned adjustments\n",
    "- Weight changes: ~0.00001 to 0.00004 (very small steps)\n",
    "- Risk: Slow convergence\n",
    "\n",
    "**Mathematical Relationship:**\n",
    "$$|\\Delta w| = \\alpha \\times |\\nabla w| = 0.01 \\times 0.0011 = 0.000011$$\n",
    "\n",
    "###### Key Learning Principles\n",
    "\n",
    "**Gradient Descent Direction:** Always moves opposite to gradient direction to minimize loss.\n",
    "\n",
    "**Step Size Control:** Learning rate balances stability (small α) vs. speed (large α).\n",
    "\n",
    "**Iterative Refinement:** Each update slightly improves the model's ability to minimize prediction error.\n",
    "\n",
    "**Convergence Goal:** Through many iterations, weights converge toward values that minimize the loss function.\n",
    "\n",
    "This process repeats for thousands of iterations across the entire dataset, gradually sculpting the neural network's weights to accurately map inputs to desired outputs.\n",
    "\n",
    "---"
   ]
  },
  {
   "cell_type": "code",
   "execution_count": 20,
   "metadata": {},
   "outputs": [
    {
     "name": "stdout",
     "output_type": "stream",
     "text": [
      "Initial weights -  Parameter containing:\n",
      "tensor([[-0.0132, -0.0047, -0.0083,  ..., -0.0092, -0.0147, -0.0160],\n",
      "        [-0.0319,  0.0043,  0.0235,  ...,  0.0259,  0.0140,  0.0248],\n",
      "        [-0.0272, -0.0177,  0.0224,  ...,  0.0239,  0.0156,  0.0257],\n",
      "        ...,\n",
      "        [-0.0109, -0.0329, -0.0004,  ..., -0.0343, -0.0120, -0.0293],\n",
      "        [-0.0199,  0.0239,  0.0055,  ...,  0.0212, -0.0215, -0.0164],\n",
      "        [-0.0345,  0.0135, -0.0355,  ...,  0.0349,  0.0169, -0.0309]],\n",
      "       requires_grad=True)\n",
      "Gradient - tensor([[-0.0006, -0.0006, -0.0006,  ..., -0.0006, -0.0006, -0.0006],\n",
      "        [-0.0003, -0.0003, -0.0003,  ..., -0.0003, -0.0003, -0.0003],\n",
      "        [ 0.0002,  0.0002,  0.0002,  ...,  0.0002,  0.0002,  0.0002],\n",
      "        ...,\n",
      "        [ 0.0011,  0.0011,  0.0011,  ...,  0.0011,  0.0011,  0.0011],\n",
      "        [ 0.0036,  0.0036,  0.0036,  ...,  0.0036,  0.0036,  0.0036],\n",
      "        [ 0.0020,  0.0020,  0.0020,  ...,  0.0020,  0.0020,  0.0020]])\n"
     ]
    }
   ],
   "source": [
    "print('Initial weights - ', model[0].weight)\n",
    "\n",
    "images, labels = next(iter(trainloader))\n",
    "images.resize_(64, 784)\n",
    "\n",
    "# Clear the gradients, do this because gradients are accumulated\n",
    "optimizer.zero_grad()\n",
    "\n",
    "# Forward pass, then backward pass, then update weights\n",
    "output = model(images)\n",
    "loss = criterion(output, labels)\n",
    "loss.backward()\n",
    "print('Gradient -', model[0].weight.grad)"
   ]
  },
  {
   "cell_type": "code",
   "execution_count": 21,
   "metadata": {},
   "outputs": [
    {
     "name": "stdout",
     "output_type": "stream",
     "text": [
      "Updated weights -  Parameter containing:\n",
      "tensor([[-0.0132, -0.0047, -0.0083,  ..., -0.0092, -0.0147, -0.0160],\n",
      "        [-0.0319,  0.0043,  0.0235,  ...,  0.0259,  0.0140,  0.0248],\n",
      "        [-0.0272, -0.0177,  0.0224,  ...,  0.0239,  0.0156,  0.0257],\n",
      "        ...,\n",
      "        [-0.0110, -0.0329, -0.0004,  ..., -0.0343, -0.0120, -0.0293],\n",
      "        [-0.0199,  0.0239,  0.0055,  ...,  0.0211, -0.0216, -0.0164],\n",
      "        [-0.0346,  0.0135, -0.0356,  ...,  0.0349,  0.0169, -0.0309]],\n",
      "       requires_grad=True)\n"
     ]
    }
   ],
   "source": [
    "# Take an update step and few the new weights\n",
    "optimizer.step()\n",
    "\n",
    "# Print updated weights with formula: new_weight = old_weight - learning_rate × gradient\n",
    "print('Updated weights - ', model[0].weight)"
   ]
  },
  {
   "cell_type": "markdown",
   "metadata": {},
   "source": [
    "### Training for real\n",
    "\n",
    "Now we'll put this algorithm into a loop so we can go through all the images. Some nomenclature, one pass through the entire dataset is called an *epoch*. So here we're going to loop through `trainloader` to get our training batches. For each batch, we'll doing a training pass where we calculate the loss, do a backwards pass, and update the weights.\n",
    "\n",
    "> **Exercise: ** Implement the training pass for our network. If you implemented it correctly, you should see the training loss drop with each epoch."
   ]
  },
  {
   "cell_type": "code",
   "execution_count": 23,
   "metadata": {},
   "outputs": [
    {
     "name": "stdout",
     "output_type": "stream",
     "text": [
      "Training loss: 0 -> 1.9698643474690696\n",
      "Training loss: 1 -> 0.8938965853661108\n",
      "Training loss: 2 -> 0.5197792042737831\n",
      "Training loss: 3 -> 0.422649674578262\n",
      "Training loss: 4 -> 0.3792648945472388\n",
      "Training loss: 5 -> 0.35324824501329394\n",
      "Training loss: 6 -> 0.3345933859822338\n",
      "Training loss: 7 -> 0.31995278055162063\n",
      "Training loss: 8 -> 0.30738412839835133\n",
      "Training loss: 9 -> 0.29683152312186484\n",
      "Training loss: 10 -> 0.28749439994822434\n",
      "Training loss: 11 -> 0.27897781652332876\n",
      "Training loss: 12 -> 0.2709870098242119\n",
      "Training loss: 13 -> 0.26386122873374646\n",
      "Training loss: 14 -> 0.25681567635299807\n",
      "Training loss: 15 -> 0.25003404043980243\n",
      "Training loss: 16 -> 0.24362928054527813\n",
      "Training loss: 17 -> 0.23722935680037877\n",
      "Training loss: 18 -> 0.23121216559190866\n",
      "Training loss: 19 -> 0.22514584766172652\n",
      "Training loss: 20 -> 0.21956399621279127\n",
      "Training loss: 21 -> 0.21393373884212996\n",
      "Training loss: 22 -> 0.20879473635303314\n",
      "Training loss: 23 -> 0.2036726717660422\n",
      "Training loss: 24 -> 0.19881584089813328\n",
      "Training loss: 25 -> 0.19380956678502342\n",
      "Training loss: 26 -> 0.18940499231123975\n",
      "Training loss: 27 -> 0.1851659496146034\n",
      "Training loss: 28 -> 0.180836480635125\n",
      "Training loss: 29 -> 0.17692930866350562\n",
      "Training loss: 30 -> 0.1729571541100105\n",
      "Training loss: 31 -> 0.16935078071942652\n",
      "Training loss: 32 -> 0.16565084384321405\n",
      "Training loss: 33 -> 0.16208273934117004\n",
      "Training loss: 34 -> 0.15882875027059556\n",
      "Training loss: 35 -> 0.15548371700947283\n",
      "Training loss: 36 -> 0.15243663820527445\n",
      "Training loss: 37 -> 0.1494852069066341\n",
      "Training loss: 38 -> 0.14655190471535934\n",
      "Training loss: 39 -> 0.1437009388207595\n",
      "Training loss: 40 -> 0.1411856599688244\n",
      "Training loss: 41 -> 0.13811689842818006\n",
      "Training loss: 42 -> 0.135699326047368\n",
      "Training loss: 43 -> 0.13309215331501734\n",
      "Training loss: 44 -> 0.13038152198035166\n",
      "Training loss: 45 -> 0.12831208949237427\n",
      "Training loss: 46 -> 0.12625403497725535\n",
      "Training loss: 47 -> 0.12358697486727603\n",
      "Training loss: 48 -> 0.1214460391602886\n",
      "Training loss: 49 -> 0.11969460914137839\n"
     ]
    }
   ],
   "source": [
    "model = nn.Sequential(nn.Linear(784, 128),\n",
    "                      nn.ReLU(),\n",
    "                      nn.Linear(128, 64),\n",
    "                      nn.ReLU(),\n",
    "                      nn.Linear(64, 10),\n",
    "                      nn.LogSoftmax(dim=1))\n",
    "\n",
    "criterion = nn.NLLLoss()\n",
    "optimizer = optim.SGD(model.parameters(), lr=0.003)\n",
    "\n",
    "epochs = 50\n",
    "\n",
    "for e in range(epochs):\n",
    "    running_loss = 0\n",
    "    for images, labels in trainloader:\n",
    "        # Flatten MNIST images into a 784 long vector\n",
    "        images = images.view(images.shape[0], -1)\n",
    "    \n",
    "        optimizer.zero_grad()\n",
    "        \n",
    "        output = model(images)\n",
    "        loss = criterion(output, labels)\n",
    "        loss.backward()\n",
    "        optimizer.step()\n",
    "        \n",
    "        running_loss += loss.item()\n",
    "    else:\n",
    "        print(f\"Training loss: {e} -> {running_loss/len(trainloader)}\")"
   ]
  },
  {
   "cell_type": "markdown",
   "metadata": {},
   "source": [
    "With the network trained, we can check out it's predictions."
   ]
  },
  {
   "cell_type": "code",
   "execution_count": 31,
   "metadata": {},
   "outputs": [
    {
     "data": {
      "image/png": "[encoded data removed]",
      "text/plain": [
       "<Figure size 640x480 with 1 Axes>"
      ]
     },
     "metadata": {},
     "output_type": "display_data"
    }
   ],
   "source": [
    "%matplotlib inline\n",
    "# import helper\n",
    "import matplotlib.pyplot as plt\n",
    "\n",
    "images, labels = next(iter(trainloader))\n",
    "\n",
    "img = images[0].view(1, 784)\n",
    "# Turn off gradients to speed up this part\n",
    "with torch.no_grad():\n",
    "    logps = model(img)\n",
    "\n",
    "# Output of the network are log-probabilities, need to take exponential for probabilities\n",
    "ps = torch.exp(logps)\n",
    "# helper.view_classify(img.view(1, 28, 28), ps)\n",
    "\n",
    "plt.imshow(img.view(28, 28).numpy(), cmap='gray')\n",
    "plt.title(f\"Predicted: {ps.argmax().item()}, True: {labels[0].item()}\")\n",
    "plt.show()\n"
   ]
  },
  {
   "cell_type": "markdown",
   "metadata": {},
   "source": [
    "Now our network is brilliant. It can accurately predict the digits in our images. Next up you'll write the code for training a neural network on a more complex dataset."
   ]
  }
 ],
 "metadata": {
  "kernelspec": {
   "display_name": "Python (ml)",
   "language": "python",
   "name": "ml"
  },
  "language_info": {
   "codemirror_mode": {
    "name": "ipython",
    "version": 3
   },
   "file_extension": ".py",
   "mimetype": "text/x-python",
   "name": "python",
   "nbconvert_exporter": "python",
   "pygments_lexer": "ipython3",
   "version": "3.9.18"
  }
 },
 "nbformat": 4,
 "nbformat_minor": 2
}
