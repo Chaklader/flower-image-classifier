{
 "cells": [
  {
   "cell_type": "markdown",
   "metadata": {},
   "source": [
    "# Introduction to Deep Learning with PyTorch\n",
    "\n",
    "In this notebook, you'll get introduced to [PyTorch](http://pytorch.org/), a framework for building and training neural networks. PyTorch in a lot of ways behaves like the arrays you love from Numpy. These Numpy arrays, after all, are just tensors. PyTorch takes these tensors and makes it simple to move them to GPUs for the faster processing needed when training neural networks. It also provides a module that automatically calculates gradients (for backpropagation!) and another module specifically for building neural networks. All together, PyTorch ends up being more coherent with Python and the Numpy/Scipy stack compared to TensorFlow and other frameworks.\n",
    "\n"
   ]
  },
  {
   "cell_type": "markdown",
   "metadata": {},
   "source": [
    "## Neural Networks\n",
    "\n",
    "Deep Learning is based on artificial neural networks which have been around in some form since the late 1950s. The networks are built from individual parts approximating neurons, typically called units or simply \"neurons.\" Each unit has some number of weighted inputs. These weighted inputs are summed together (a linear combination) then passed through an activation function to get the unit's output.\n",
    "\n",
    "<img src=\"../../../images/AI_Programming_with_Python_ND_P2_L_01.png\" width=400px>\n",
    "\n",
    "Mathematically this looks like: \n",
    "\n",
    "$$\n",
    "\\begin{align}\n",
    "y &= f(w_1 x_1 + w_2 x_2 + b) \\\\\n",
    "y &= f\\left(\\sum_i w_i x_i +b \\right)\n",
    "\\end{align}\n",
    "$$\n",
    "\n",
    "With vectors this is the dot/inner product of two vectors:\n",
    "\n",
    "$$\n",
    "h = \\begin{bmatrix}\n",
    "x_1 \\, x_2 \\cdots  x_n\n",
    "\\end{bmatrix}\n",
    "\\cdot \n",
    "\\begin{bmatrix}\n",
    "           w_1 \\\\\n",
    "           w_2 \\\\\n",
    "           \\vdots \\\\\n",
    "           w_n\n",
    "\\end{bmatrix}\n",
    "$$"
   ]
  },
  {
   "cell_type": "markdown",
   "metadata": {},
   "source": [
    "## Tensors\n",
    "\n",
    "It turns out neural network computations are just a bunch of linear algebra operations on *tensors*, a generalization of matrices. A vector is a 1-dimensional tensor, a matrix is a 2-dimensional tensor, an array with three indices is a 3-dimensional tensor (RGB color images for example). The fundamental data structure for neural networks are tensors and PyTorch (as well as pretty much every other deep learning framework) is built around tensors.\n",
    "\n",
    "<img src=\"../../../images/AI_Programming_with_Python_ND_P2_L_02.svg\" width=600px>\n",
    "\n",
    "With the basics covered, it's time to explore how we can use PyTorch to build a simple neural network."
   ]
  },
  {
   "cell_type": "code",
   "execution_count": 2,
   "metadata": {},
   "outputs": [],
   "source": [
    "import torch\n",
    "\n",
    "torch.manual_seed(7)\n",
    "\n",
    "def activation(x):\n",
    "    \"\"\" Sigmoid activation function \n",
    "    \n",
    "        Arguments\n",
    "        ---------\n",
    "        x: torch.Tensor\n",
    "    \"\"\"\n",
    "    return 1/(1+torch.exp(-x))"
   ]
  },
  {
   "cell_type": "code",
   "execution_count": 4,
   "metadata": {},
   "outputs": [
    {
     "name": "stdout",
     "output_type": "stream",
     "text": [
      "Features: tensor([[0.1328, 0.1373, 0.2405, 1.3955, 1.3470]])\n",
      "Weights: tensor([[2.4382, 0.2028, 2.4505, 2.0256, 1.7792]])\n",
      "Bias: tensor([[-0.9179]])\n"
     ]
    }
   ],
   "source": [
    "# Features are 5 random normal variables\n",
    "features = torch.randn((1, 5))\n",
    "# True weights for our data, random normal variables again\n",
    "weights = torch.randn_like(features)\n",
    "# and a true bias term\n",
    "bias = torch.randn((1, 1))\n",
    "\n",
    "print(\"Features:\", features)\n",
    "print(\"Weights:\", weights)\n",
    "print(\"Bias:\", bias)"
   ]
  },
  {
   "cell_type": "markdown",
   "metadata": {},
   "source": [
    "Above I generated data we can use to get the output of our simple network. This is all just random for now, going forward we'll start using normal data. Going through each relevant line:\n",
    "\n",
    "`features = torch.randn((1, 5))` creates a tensor with shape `(1, 5)`, one row and five columns, that contains values randomly distributed according to the normal distribution with a mean of zero and standard deviation of one. \n",
    "\n",
    "`weights = torch.randn_like(features)` creates another tensor with the same shape as `features`, again containing values from a normal distribution.\n",
    "\n",
    "Finally, `bias = torch.randn((1, 1))` creates a single value from a normal distribution.\n",
    "\n",
    "PyTorch tensors can be added, multiplied, subtracted, etc, just like Numpy arrays. In general, you'll use PyTorch tensors pretty much the same way you'd use Numpy arrays. They come with some nice benefits though such as GPU acceleration which we'll get to later. For now, use the generated data to calculate the output of this simple single layer network. \n",
    "> **Exercise**: Calculate the output of the network with input features `features`, weights `weights`, and bias `bias`. Similar to Numpy, PyTorch has a [`torch.sum()`](https://pytorch.org/docs/stable/torch.html#torch.sum) function, as well as a `.sum()` method on tensors, for taking sums. Use the function `activation` defined above as the activation function."
   ]
  },
  {
   "cell_type": "code",
   "execution_count": 5,
   "metadata": {},
   "outputs": [],
   "source": [
    "### Solution\n",
    "\n",
    "# Now, make our labels from our data and true weights\n",
    "\n",
    "y = activation(torch.sum(features * weights) + bias)\n",
    "y = activation((features * weights).sum() + bias)"
   ]
  },
  {
   "cell_type": "markdown",
   "metadata": {},
   "source": [
    "`torch.mm()` and `torch.matmul()` are both PyTorch functions for matrix operations, but they have important differences:\n",
    "\n",
    "## torch.mm()\n",
    "\n",
    "**Purpose**: Performs matrix multiplication specifically for 2D tensors (matrices).\n",
    "\n",
    "**Requirements**:\n",
    "- Both inputs must be exactly 2D tensors\n",
    "- Inner dimensions must match: `(n × m) @ (m × p) → (n × p)`\n",
    "\n",
    "**Example**:\n",
    "```python\n",
    "import torch\n",
    "\n",
    "A = torch.tensor([[1, 2], [3, 4]])  # 2x2 matrix\n",
    "B = torch.tensor([[5, 6], [7, 8]])  # 2x2 matrix\n",
    "\n",
    "result = torch.mm(A, B)\n",
    "# Result: [[19, 22], [43, 50]]\n",
    "```\n",
    "\n",
    "**Limitations**:\n",
    "- Cannot handle broadcasting\n",
    "- Only works with exactly 2D inputs\n",
    "- Will error if inputs have different dimensions\n",
    "\n",
    "## torch.matmul()\n",
    "\n",
    "**Purpose**: General matrix multiplication with broadcasting support.\n",
    "\n",
    "**Capabilities**:\n",
    "- Handles various tensor dimensions (1D, 2D, 3D+)\n",
    "- Supports batch operations\n",
    "- Includes broadcasting rules\n",
    "\n",
    "**Behavior by dimension**:\n",
    "- **1D × 1D**: Dot product → scalar\n",
    "- **2D × 2D**: Standard matrix multiplication (same as `torch.mm()`)\n",
    "- **1D × 2D**: Vector-matrix multiplication\n",
    "- **2D × 1D**: Matrix-vector multiplication\n",
    "- **3D+**: Batch matrix multiplication\n",
    "\n",
    "**Examples**:\n",
    "```python\n",
    "# 2D case (equivalent to torch.mm)\n",
    "A = torch.tensor([[1, 2], [3, 4]])\n",
    "B = torch.tensor([[5, 6], [7, 8]])\n",
    "result = torch.matmul(A, B)  # Same as torch.mm(A, B)\n",
    "\n",
    "# 1D vector dot product\n",
    "v1 = torch.tensor([1, 2, 3])\n",
    "v2 = torch.tensor([4, 5, 6])\n",
    "dot_product = torch.matmul(v1, v2)  # Result: 32\n",
    "\n",
    "# Batch matrix multiplication\n",
    "batch_A = torch.randn(10, 3, 4)  # 10 matrices of size 3×4\n",
    "batch_B = torch.randn(10, 4, 5)  # 10 matrices of size 4×5\n",
    "batch_result = torch.matmul(batch_A, batch_B)  # Shape: (10, 3, 5)\n",
    "\n",
    "# Broadcasting example\n",
    "A = torch.randn(5, 3, 4)     # 5 matrices of 3×4\n",
    "B = torch.randn(4, 2)        # Single 4×2 matrix\n",
    "result = torch.matmul(A, B)  # B broadcasts to (5, 4, 2), result: (5, 3, 2)\n",
    "```\n",
    "\n",
    "## Key Differences Summary\n",
    "\n",
    "| Feature | torch.mm() | torch.matmul() |\n",
    "|---------|------------|----------------|\n",
    "| **Input dimensions** | Exactly 2D only | 1D, 2D, 3D+ |\n",
    "| **Broadcasting** | No | Yes |\n",
    "| **Batch operations** | No | Yes |\n",
    "| **Performance** | Slightly faster for 2D | More versatile |\n",
    "| **Error handling** | Strict dimension requirements | Flexible with broadcasting |\n",
    "\n",
    "## Practical Recommendations\n",
    "\n",
    "**Use `torch.mm()`** when:\n",
    "- You're certain both inputs are 2D matrices\n",
    "- You want strict dimension checking\n",
    "- Performance is critical for simple matrix multiplication\n",
    "\n",
    "**Use `torch.matmul()`** when:\n",
    "- Working with various tensor dimensions\n",
    "- Need broadcasting capabilities\n",
    "- Handling batch operations\n",
    "- Want a general-purpose matrix multiplication function\n",
    "\n",
    "In most modern PyTorch code, `torch.matmul()` is preferred due to its flexibility and broader applicability, especially in deep learning where batch operations and various tensor shapes are common.\n",
    "\n",
    "---"
   ]
  },
  {
   "cell_type": "markdown",
   "metadata": {},
   "source": [
    "You can do the multiplication and sum in the same operation using a matrix multiplication. In general, you'll want to use matrix multiplications since they are more efficient and accelerated using modern libraries and high-performance computing on GPUs.\n",
    "\n",
    "Here, we want to do a matrix multiplication of the features and the weights. For this we can use [`torch.mm()`](https://pytorch.org/docs/stable/torch.html#torch.mm) or [`torch.matmul()`](https://pytorch.org/docs/stable/torch.html#torch.matmul) which is somewhat more complicated and supports broadcasting. If we try to do it with `features` and `weights` as they are, we'll get an error\n",
    "\n",
    "```python\n",
    ">> torch.mm(features, weights)\n",
    "\n",
    "---------------------------------------------------------------------------\n",
    "RuntimeError                              Traceback (most recent call last)\n",
    "<ipython-input-13-15d592eb5279> in <module>()\n",
    "----> 1 torch.mm(features, weights)\n",
    "\n",
    "RuntimeError: size mismatch, m1: [1 x 5], m2: [1 x 5] at /Users/soumith/minicondabuild3/conda-bld/pytorch_1524590658547/work/aten/src/TH/generic/THTensorMath.c:2033\n",
    "```\n",
    "\n",
    "As you're building neural networks in any framework, you'll see this often. Really often. What's happening here is our tensors aren't the correct shapes to perform a matrix multiplication. Remember that for matrix multiplications, the number of columns in the first tensor must equal to the number of rows in the second tensor. Both `features` and `weights` have the same shape, `(1, 5)`. This means we need to change the shape of `weights` to get the matrix multiplication to work.\n",
    "\n",
    "**Note:** To see the shape of a tensor called `tensor`, use `tensor.shape`. If you're building neural networks, you'll be using this method often.\n",
    "\n",
    "There are a few options here: [`weights.reshape()`](https://pytorch.org/docs/stable/tensors.html#torch.Tensor.reshape), [`weights.resize_()`](https://pytorch.org/docs/stable/tensors.html#torch.Tensor.resize_), and [`weights.view()`](https://pytorch.org/docs/stable/tensors.html#torch.Tensor.view).\n",
    "\n",
    "* `weights.reshape(a, b)` will return a new tensor with the same data as `weights` with size `(a, b)` sometimes, and sometimes a clone, as in it copies the data to another part of memory.\n",
    "* `weights.resize_(a, b)` returns the same tensor with a different shape. However, if the new shape results in fewer elements than the original tensor, some elements will be removed from the tensor (but not from memory). If the new shape results in more elements than the original tensor, new elements will be uninitialized in memory. Here I should note that the underscore at the end of the method denotes that this method is performed **in-place**. Here is a great forum thread to [read more about in-place operations](https://discuss.pytorch.org/t/what-is-in-place-operation/16244) in PyTorch.\n",
    "* `weights.view(a, b)` will return a new tensor with the same data as `weights` with size `(a, b)`.\n",
    "\n",
    "I usually use `.view()`, but any of the three methods will work for this. So, now we can reshape `weights` to have five rows and one column with something like `weights.view(5, 1)`.\n",
    "\n",
    "> **Exercise**: Calculate the output of our little network using matrix multiplication.\n",
    "---"
   ]
  },
  {
   "cell_type": "markdown",
   "metadata": {},
   "source": [
    "The `.view()` function in PyTorch reshapes a tensor without changing its data. `weights.view(5,1)` specifically reshapes the `weights` tensor into a 5×1 column vector.\n",
    "\n",
    "## How .view() Works\n",
    "\n",
    "**.view()** changes the tensor's shape while keeping the same data and total number of elements. It's similar to NumPy's `.reshape()`.\n",
    "\n",
    "## Example with weights.view(5,1)\n",
    "\n",
    "```python\n",
    "import torch\n",
    "\n",
    "# Original weights tensor (1D)\n",
    "weights = torch.tensor([0.2, 0.5, 0.1, 0.8, 0.3])\n",
    "print(\"Original shape:\", weights.shape)  # torch.Size([5])\n",
    "print(\"Original tensor:\", weights)\n",
    "\n",
    "# Reshape to column vector\n",
    "weights_col = weights.view(5, 1)\n",
    "print(\"New shape:\", weights_col.shape)  # torch.Size([5, 1])\n",
    "print(\"Reshaped tensor:\")\n",
    "print(weights_col)\n",
    "```\n",
    "\n",
    "**Output:**\n",
    "```\n",
    "Original shape: torch.Size([5])\n",
    "Original tensor: tensor([0.2000, 0.5000, 0.1000, 0.8000, 0.3000])\n",
    "\n",
    "New shape: torch.Size([5, 1])\n",
    "Reshaped tensor:\n",
    "tensor([[0.2000],\n",
    "        [0.5000],\n",
    "        [0.1000],\n",
    "        [0.8000],\n",
    "        [0.3000]])\n",
    "```\n",
    "\n",
    "## Why This Matters\n",
    "\n",
    "**Broadcasting and Matrix Operations**: Converting to a column vector enables proper broadcasting in matrix operations:\n",
    "\n",
    "```python\n",
    "# Without .view() - 1D tensor\n",
    "data = torch.randn(3, 5)  # 3 samples, 5 features\n",
    "weights = torch.tensor([0.2, 0.5, 0.1, 0.8, 0.3])\n",
    "\n",
    "# This works but may not behave as expected in some operations\n",
    "result1 = data * weights  # Shape: (3, 5)\n",
    "\n",
    "# With .view() - explicit column vector\n",
    "weights_col = weights.view(5, 1)\n",
    "\n",
    "# or for matrix multiplication:\n",
    "result3 = torch.matmul(data, weights_col)  # Shape: (3, 1)\n",
    "```\n",
    "\n",
    "## Common Use Cases\n",
    "\n",
    "**1. Matrix Multiplication:**\n",
    "```python\n",
    "X = torch.randn(100, 5)  # 100 samples, 5 features\n",
    "w = torch.randn(5)       # weights\n",
    "\n",
    "# Need column vector for proper matrix multiplication\n",
    "w_col = w.view(5, 1)\n",
    "output = torch.matmul(X, w_col)  # Shape: (100, 1)\n",
    "```\n",
    "\n",
    "**2. Neural Network Layers:**\n",
    "```python\n",
    "# Converting 1D bias to proper shape for addition\n",
    "bias = torch.randn(10)\n",
    "bias_reshaped = bias.view(1, 10)  # Row vector for broadcasting\n",
    "```\n",
    "\n",
    "## Key Properties of .view()\n",
    "\n",
    "- **Memory sharing**: The new tensor shares memory with the original\n",
    "- **Contiguous requirement**: Original tensor must be contiguous in memory\n",
    "- **Element count preservation**: Total number of elements must remain the same\n",
    "\n",
    "```python\n",
    "weights = torch.tensor([1, 2, 3, 4, 5, 6])\n",
    "# Valid reshapes (6 elements total):\n",
    "weights.view(2, 3)  # 2×3 matrix\n",
    "weights.view(3, 2)  # 3×2 matrix  \n",
    "weights.view(6, 1)  # 6×1 column vector\n",
    "weights.view(1, 6)  # 1×6 row vector\n",
    "\n",
    "# Invalid reshape:\n",
    "# weights.view(2, 4)  # Error: 2×4 = 8 ≠ 6 elements\n",
    "```\n",
    "\n",
    "The `.view(5,1)` operation is commonly used when you need to ensure a tensor has the proper dimensionality for matrix operations or broadcasting, converting a 1D tensor into an explicit column vector format.\n",
    "\n",
    "---"
   ]
  },
  {
   "cell_type": "code",
   "execution_count": 7,
   "metadata": {},
   "outputs": [
    {
     "name": "stdout",
     "output_type": "stream",
     "text": [
      "tensor([[0.1595]])\n"
     ]
    }
   ],
   "source": [
    "## Solution\n",
    "\n",
    "y = activation(torch.mm(features, weights.view(5,1)) + bias)\n",
    "print(y)\n"
   ]
  },
  {
   "cell_type": "markdown",
   "metadata": {},
   "source": [
    "# Stack them up!\n",
    "\n",
    "That's how you can calculate the output for a single neuron. The real power of this algorithm happens when you start stacking these individual units into layers and stacks of layers, into a network of neurons. The output of one layer of neurons becomes the input for the next layer. With multiple input units and output units, we now need to express the weights as a matrix.\n",
    "\n",
    "<img src='../../../images/AI_Programming_with_Python_ND_P2_L_03.png' width=450px>\n",
    "\n",
    "The first layer shown on the bottom here are the inputs, understandably called the **input layer**. The middle layer is called the **hidden layer**, and the final layer (on the right) is the **output layer**. We can express this network mathematically with matrices again and use matrix multiplication to get linear combinations for each unit in one operation. For example, the hidden layer ($h_1$ and $h_2$ here) can be calculated \n",
    "\n",
    "$$\n",
    "\\vec{h} = [h_1 \\, h_2] = \n",
    "\\begin{bmatrix}\n",
    "x_1 \\, x_2 \\cdots \\, x_n\n",
    "\\end{bmatrix}\n",
    "\\cdot \n",
    "\\begin{bmatrix}\n",
    "           w_{11} & w_{12} \\\\\n",
    "           w_{21} &w_{22} \\\\\n",
    "           \\vdots &\\vdots \\\\\n",
    "           w_{n1} &w_{n2}\n",
    "\\end{bmatrix}\n",
    "$$\n",
    "\n",
    "The output for this small network is found by treating the hidden layer as inputs for the output unit. The network output is expressed simply\n",
    "\n",
    "$$\n",
    "y =  f_2 \\! \\left(\\, f_1 \\! \\left(\\vec{x} \\, \\mathbf{W_1}\\right) \\mathbf{W_2} \\right)\n",
    "$$\n",
    "\n",
    "---"
   ]
  },
  {
   "cell_type": "markdown",
   "metadata": {},
   "source": [
    "Here's a diagram of the neural network architecture based on your code:\n",
    "\n",
    "```mermaid\n",
    "graph LR\n",
    "    %% Input Layer\n",
    "    X1[\"x₁\"] --> H1[\"h₁\"]\n",
    "    X1 --> H2[\"h₂\"]\n",
    "    X2[\"x₂\"] --> H1\n",
    "    X2 --> H2\n",
    "    X3[\"x₃\"] --> H1\n",
    "    X3 --> H2\n",
    "    \n",
    "    %% Hidden to Output\n",
    "    H1 --> O1[\"output\"]\n",
    "    H2 --> O1\n",
    "    \n",
    "    %% Bias nodes\n",
    "    B1_node[\"bias₁\"] --> H1\n",
    "    B1_node --> H2\n",
    "    B2_node[\"bias₂\"] --> O1\n",
    "    \n",
    "    %% Layer labels\n",
    "    subgraph \"Input Layer (3 features)\"\n",
    "        X1\n",
    "        X2\n",
    "        X3\n",
    "    end\n",
    "    \n",
    "    subgraph \"Hidden Layer (2 units)\"\n",
    "        H1\n",
    "        H2\n",
    "        B1_node\n",
    "    end\n",
    "    \n",
    "    subgraph \"Output Layer (1 unit)\"\n",
    "        O1\n",
    "        B2_node\n",
    "    end\n",
    "    \n",
    "    style X1 fill:#BBDEFB\n",
    "    style X2 fill:#BBDEFB\n",
    "    style X3 fill:#BBDEFB\n",
    "    style H1 fill:#E8F5E8\n",
    "    style H2 fill:#E8F5E8\n",
    "    style O1 fill:#FFE0B2\n",
    "    style B1_node fill:#F3E5F5\n",
    "    style B2_node fill:#F3E5F5\n",
    "```\n",
    "\n",
    "**Network Architecture Details:**\n",
    "\n",
    "**Dimensions and Flow:**\n",
    "- **Input Layer**: 3 features → `features.shape = (1, 3)`\n",
    "- **Hidden Layer**: 2 neurons → `n_hidden = 2`\n",
    "- **Output Layer**: 1 neuron → `n_output = 1`\n",
    "\n",
    "**Weight Matrices:**\n",
    "- **W1**: `(3, 2)` - connects input to hidden layer\n",
    "- **W2**: `(2, 1)` - connects hidden to output layer\n",
    "\n",
    "**Bias Vectors:**\n",
    "- **B1**: `(1, 2)` - bias for hidden layer\n",
    "- **B2**: `(1, 1)` - bias for output layer\n",
    "\n",
    "**Mathematical Operations:**\n",
    "\n",
    "```python\n",
    "# Forward pass would be:\n",
    "hidden_input = torch.matmul(features, W1) + B1    # Shape: (1, 2)\n",
    "hidden_output = activation_function(hidden_input)  # Apply activation (e.g., ReLU, sigmoid)\n",
    "\n",
    "final_output = torch.matmul(hidden_output, W2) + B2  # Shape: (1, 1)\n",
    "```\n",
    "\n",
    "**Key Observations:**\n",
    "- This is a simple feedforward network with one hidden layer\n",
    "- The bias terms are shaped as row vectors `(1, n)` to broadcast correctly with batch operations\n",
    "- Each connection represents learnable parameters that will be updated during training\n",
    "- The network can handle batch processing since the first dimension can accommodate multiple samples\n",
    "\n",
    "---"
   ]
  },
  {
   "cell_type": "code",
   "execution_count": 10,
   "metadata": {},
   "outputs": [
    {
     "name": "stdout",
     "output_type": "stream",
     "text": [
      "features:  tensor([[-0.1468,  0.7861,  0.9468]])\n",
      "n_input:  3\n",
      "n_hidden:  2\n",
      "n_output:  1\n",
      "\n",
      "\n",
      "=====================\n",
      "\n",
      "\n",
      "W1:  tensor([[-1.1143,  1.6908],\n",
      "        [-0.8948, -0.3556],\n",
      "        [ 1.2324,  0.1382]])\n",
      "B1:  tensor([[0.1328, 0.1373]])\n",
      "W2:  tensor([[-1.6822],\n",
      "        [ 0.3177]])\n",
      "B2:  tensor([[0.2405]])\n"
     ]
    }
   ],
   "source": [
    "### Generate some data\n",
    "torch.manual_seed(7) # Set the random seed so things are predictable\n",
    "\n",
    "# Features are 3 random normal variables\n",
    "features = torch.randn((1, 3))\n",
    "\n",
    "# Define the size of each layer in our network\n",
    "n_input = features.shape[1]     # Number of input units, must match number of input features\n",
    "n_hidden = 2                    # Number of hidden units \n",
    "n_output = 1                    # Number of output units\n",
    "\n",
    "# Weights for inputs to hidden layer\n",
    "W1 = torch.randn(n_input, n_hidden)\n",
    "# Weights for hidden layer to output layer\n",
    "W2 = torch.randn(n_hidden, n_output)\n",
    "\n",
    "# and bias terms for hidden and output layers\n",
    "B1 = torch.randn((1, n_hidden))\n",
    "B2 = torch.randn((1, n_output))\n",
    "\n",
    "\n",
    "print(\"features: \", features)\n",
    "print(\"n_input: \", n_input)\n",
    "print(\"n_hidden: \", n_hidden)\n",
    "print(\"n_output: \", n_output)\n",
    "print(\"\\n\")\n",
    "print(\"=====================\")\n",
    "print(\"\\n\")\n",
    "print(\"W1: \", W1)\n",
    "print(\"B1: \", B1)\n",
    "print(\"W2: \", W2)\n",
    "print(\"B2: \", B2)"
   ]
  },
  {
   "cell_type": "markdown",
   "metadata": {},
   "source": [
    "> **Exercise:** Calculate the output for this multi-layer network using the weights `W1` & `W2`, and the biases, `B1` & `B2`. "
   ]
  },
  {
   "cell_type": "code",
   "execution_count": 11,
   "metadata": {},
   "outputs": [
    {
     "name": "stdout",
     "output_type": "stream",
     "text": [
      "tensor([[0.3171]])\n"
     ]
    }
   ],
   "source": [
    "### Solution\n",
    "\n",
    "h = activation(torch.mm(features, W1) + B1)\n",
    "output = activation(torch.mm(h, W2) + B2)\n",
    "print(output)"
   ]
  },
  {
   "cell_type": "markdown",
   "metadata": {},
   "source": [
    "If you did this correctly, you should see the output `tensor([[ 0.3171]])`.\n",
    "\n",
    "The number of hidden units a parameter of the network, often called a **hyperparameter** to differentiate it from the weights and biases parameters. As you'll see later when we discuss training a neural network, the more hidden units a network has, and the more layers, the better able it is to learn from data and make accurate predictions."
   ]
  },
  {
   "cell_type": "markdown",
   "metadata": {},
   "source": [
    "## Numpy to Torch and back\n",
    "\n",
    "Special bonus section! PyTorch has a great feature for converting between Numpy arrays and Torch tensors. To create a tensor from a Numpy array, use `torch.from_numpy()`. To convert a tensor to a Numpy array, use the `.numpy()` method."
   ]
  },
  {
   "cell_type": "code",
   "execution_count": 16,
   "metadata": {},
   "outputs": [
    {
     "data": {
      "text/plain": [
       "array([[ 0.33669496,  0.59531562,  0.65433944],\n",
       "       [ 0.86531224,  0.59945364,  0.28043973],\n",
       "       [ 0.48409303,  0.98357622,  0.33884284],\n",
       "       [ 0.25591391,  0.51081783,  0.39986403]])"
      ]
     },
     "execution_count": 16,
     "metadata": {},
     "output_type": "execute_result"
    }
   ],
   "source": [
    "import numpy as np\n",
    "a = np.random.rand(4,3)\n",
    "a"
   ]
  },
  {
   "cell_type": "code",
   "execution_count": 17,
   "metadata": {},
   "outputs": [
    {
     "data": {
      "text/plain": [
       "\n",
       " 0.3367  0.5953  0.6543\n",
       " 0.8653  0.5995  0.2804\n",
       " 0.4841  0.9836  0.3388\n",
       " 0.2559  0.5108  0.3999\n",
       "[torch.DoubleTensor of size 4x3]"
      ]
     },
     "execution_count": 17,
     "metadata": {},
     "output_type": "execute_result"
    }
   ],
   "source": [
    "b = torch.from_numpy(a)\n",
    "b"
   ]
  },
  {
   "cell_type": "code",
   "execution_count": 18,
   "metadata": {},
   "outputs": [
    {
     "data": {
      "text/plain": [
       "array([[ 0.33669496,  0.59531562,  0.65433944],\n",
       "       [ 0.86531224,  0.59945364,  0.28043973],\n",
       "       [ 0.48409303,  0.98357622,  0.33884284],\n",
       "       [ 0.25591391,  0.51081783,  0.39986403]])"
      ]
     },
     "execution_count": 18,
     "metadata": {},
     "output_type": "execute_result"
    }
   ],
   "source": [
    "b.numpy()"
   ]
  },
  {
   "cell_type": "markdown",
   "metadata": {},
   "source": [
    "The memory is shared between the Numpy array and Torch tensor, so if you change the values in-place of one object, the other will change as well."
   ]
  },
  {
   "cell_type": "code",
   "execution_count": 19,
   "metadata": {},
   "outputs": [
    {
     "data": {
      "text/plain": [
       "\n",
       " 0.6734  1.1906  1.3087\n",
       " 1.7306  1.1989  0.5609\n",
       " 0.9682  1.9672  0.6777\n",
       " 0.5118  1.0216  0.7997\n",
       "[torch.DoubleTensor of size 4x3]"
      ]
     },
     "execution_count": 19,
     "metadata": {},
     "output_type": "execute_result"
    }
   ],
   "source": [
    "# Multiply PyTorch Tensor by 2, in place\n",
    "b.mul_(2)"
   ]
  },
  {
   "cell_type": "code",
   "execution_count": 20,
   "metadata": {},
   "outputs": [
    {
     "data": {
      "text/plain": [
       "array([[ 0.67338991,  1.19063124,  1.30867888],\n",
       "       [ 1.73062448,  1.19890728,  0.56087946],\n",
       "       [ 0.96818606,  1.96715243,  0.67768568],\n",
       "       [ 0.51182782,  1.02163565,  0.79972807]])"
      ]
     },
     "execution_count": 20,
     "metadata": {},
     "output_type": "execute_result"
    }
   ],
   "source": [
    "# Numpy array matches new values from Tensor\n",
    "a"
   ]
  }
 ],
 "metadata": {
  "kernelspec": {
   "display_name": "Python (ml)",
   "language": "python",
   "name": "ml"
  },
  "language_info": {
   "codemirror_mode": {
    "name": "ipython",
    "version": 3
   },
   "file_extension": ".py",
   "mimetype": "text/x-python",
   "name": "python",
   "nbconvert_exporter": "python",
   "pygments_lexer": "ipython3",
   "version": "3.9.18"
  }
 },
 "nbformat": 4,
 "nbformat_minor": 2
}
