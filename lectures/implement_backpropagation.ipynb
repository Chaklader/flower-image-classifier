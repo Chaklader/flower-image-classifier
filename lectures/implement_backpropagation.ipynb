{
 "cells": [
  {
   "cell_type": "code",
   "execution_count": null,
   "metadata": {
    "grader_id": "mwqthqbrju"
   },
   "outputs": [
    {
     "ename": "NameError",
     "evalue": "name 'float64' is not defined",
     "output_type": "error",
     "traceback": [
      "\u001b[0;31m---------------------------------------------------------------------------\u001b[0m",
      "\u001b[0;31mNameError\u001b[0m                                 Traceback (most recent call last)",
      "Cell \u001b[0;32mIn[5], line 49\u001b[0m\n\u001b[1;32m     47\u001b[0m     \u001b[38;5;66;03m# TODO: Update the change in weights\u001b[39;00m\n\u001b[1;32m     48\u001b[0m     del_w_hidden_output \u001b[38;5;241m+\u001b[39m\u001b[38;5;241m=\u001b[39m output_error_term \u001b[38;5;241m*\u001b[39m hidden_output\n\u001b[0;32m---> 49\u001b[0m     del_w_input_hidden \u001b[38;5;241m+\u001b[39m\u001b[38;5;241m=\u001b[39m hidden_error_term \u001b[38;5;241m*\u001b[39m np\u001b[38;5;241m.\u001b[39marray(x[:, \u001b[38;5;28;01mNone\u001b[39;00m], dtype\u001b[38;5;241m=\u001b[39mfloat64)\n\u001b[1;32m     51\u001b[0m \u001b[38;5;66;03m# TODO: Update weights\u001b[39;00m\n\u001b[1;32m     52\u001b[0m weights_input_hidden \u001b[38;5;241m+\u001b[39m\u001b[38;5;241m=\u001b[39m learnrate \u001b[38;5;241m*\u001b[39m del_w_input_hidden \u001b[38;5;241m/\u001b[39m n_records\n",
      "\u001b[0;31mNameError\u001b[0m: name 'float64' is not defined"
     ]
    }
   ],
   "source": [
    "import numpy as np\n",
    "from data_prep import features, targets, features_test, targets_test\n",
    "\n",
    "np.random.seed(21)\n",
    "\n",
    "def sigmoid(x):\n",
    "    \"\"\"Calculate sigmoid with explicit NumPy conversion and clipping\"\"\"\n",
    "    x = np.asarray(x, dtype=np.float64)  # Force conversion and dtype\n",
    "    return 1 / (1 + np.exp(-np.clip(x, -500, 500)))  # Prevent overflow\n",
    "\n",
    "# Hyperparameters\n",
    "n_hidden = 2  # number of hidden units\n",
    "epochs = 900\n",
    "learnrate = 0.005\n",
    "n_records, n_features = features.shape\n",
    "last_loss = None\n",
    "\n",
    "# Initialize weights\n",
    "weights_input_hidden = np.random.normal(scale=1 / n_features ** .5,\n",
    "                                        size=(n_features, n_hidden))\n",
    "weights_hidden_output = np.random.normal(scale=1 / n_features ** .5,\n",
    "                                         size=n_hidden)\n",
    "for e in range(epochs):\n",
    "    del_w_input_hidden = np.zeros(weights_input_hidden.shape)\n",
    "    del_w_hidden_output = np.zeros(weights_hidden_output.shape)\n",
    "    for x, y in zip(features.values, targets):\n",
    "        ## Forward pass ##\n",
    "        # TODO: Calculate the output\n",
    "        hidden_input = np.dot(x, weights_input_hidden)\n",
    "        hidden_output = sigmoid(np.array(hidden_input, dtype=np.float64))\n",
    "        output = sigmoid(np.array(np.dot(hidden_output, weights_hidden_output), dtype=np.float64))                        \n",
    "\n",
    "        ## Backward pass ##\n",
    "        # TODO: Calculate the network's prediction error\n",
    "        error = y - output\n",
    "        \n",
    "        # TODO: Calculate error term for the output unit\n",
    "        output_error_term = error  *output*  (1 - output)\n",
    "\n",
    "        ## propagate errors to hidden layer\n",
    "        # TODO: Calculate the hidden layer's contribution to the error\n",
    "        hidden_error = np.dot(output_error_term, weights_hidden_output)\n",
    "        \n",
    "        # TODO: Calculate the error term for the hidden layer\n",
    "        hidden_error_term = hidden_error  *hidden_output*  (1 - hidden_output)\n",
    "        \n",
    "        # TODO: Update the change in weights\n",
    "        del_w_hidden_output += output_error_term * hidden_output\n",
    "        # del_w_input_hidden += hidden_error_term * np.array(x[:, None], dtype=float64)\n",
    "        del_w_input_hidden += hidden_error_term * np.array(x[:, None], dtype=np.float64)\n",
    "\n",
    "\n",
    "    # TODO: Update weights\n",
    "    weights_input_hidden += learnrate * del_w_input_hidden / n_records\n",
    "    weights_hidden_output += learnrate * del_w_hidden_output / n_records\n",
    "\n",
    "    # Printing out the mean square error on the training set\n",
    "    if e % (epochs / 10) == 0:\n",
    "        hidden_output = sigmoid(np.dot(x, weights_input_hidden))\n",
    "        out = sigmoid(np.dot(hidden_output,\n",
    "                             weights_hidden_output))\n",
    "        loss = np.mean((out - targets) ** 2)\n",
    "        if last_loss and last_loss < loss:\n",
    "            print(\"Train loss:\", loss, \"WARNING - Loss Increasing\")\n",
    "        else:\n",
    "            print(\"Train loss:\", loss)\n",
    "        last_loss = loss\n",
    "\n",
    "# Calculate accuracy on test data\n",
    "hidden = sigmoid(np.dot(features_test, weights_input_hidden))\n",
    "out = sigmoid(np.dot(hidden, weights_hidden_output))\n",
    "predictions = out > 0.5\n",
    "accuracy = np.mean(predictions == targets_test)\n",
    "print(\"Prediction accuracy: {:.3f}\".format(accuracy))"
   ]
  }
 ],
 "metadata": {
  "kernelspec": {
   "display_name": "Python (aipnd)",
   "language": "python",
   "name": "aipnd"
  },
  "language_info": {
   "codemirror_mode": {
    "name": "ipython",
    "version": 3
   },
   "file_extension": ".py",
   "mimetype": "text/x-python",
   "name": "python",
   "nbconvert_exporter": "python",
   "pygments_lexer": "ipython3",
   "version": "3.12.5"
  }
 },
 "nbformat": 4,
 "nbformat_minor": 2
}
