{
 "cells": [
  {
   "cell_type": "code",
   "execution_count": 2,
   "metadata": {
    "id": "IiPB9-t0SgLJ"
   },
   "outputs": [],
   "source": [
    "import torch"
   ]
  },
  {
   "cell_type": "code",
   "execution_count": 5,
   "metadata": {
    "id": "s-V4NDzyWX1h"
   },
   "outputs": [],
   "source": [
    "## torch.rand()"
   ]
  },
  {
   "cell_type": "code",
   "execution_count": 6,
   "metadata": {
    "id": "U7YSjzdnS6Dt"
   },
   "outputs": [
    {
     "data": {
      "text/plain": [
       "tensor([0.0172, 0.3152, 0.1039, 0.0559, 0.4318])"
      ]
     },
     "execution_count": 6,
     "metadata": {},
     "output_type": "execute_result"
    }
   ],
   "source": [
    "torch.rand(5)"
   ]
  },
  {
   "cell_type": "code",
   "execution_count": 7,
   "metadata": {
    "id": "9gvu1QSOS8i_"
   },
   "outputs": [
    {
     "data": {
      "text/plain": [
       "tensor([[0.3005, 0.5307, 0.0506, 0.7799, 0.5718],\n",
       "        [0.5960, 0.6300, 0.8936, 0.3779, 0.6295],\n",
       "        [0.6082, 0.5375, 0.3223, 0.7011, 0.4415],\n",
       "        [0.2314, 0.7563, 0.2230, 0.2633, 0.0657],\n",
       "        [0.3942, 0.3352, 0.2214, 0.2713, 0.4043]])"
      ]
     },
     "execution_count": 7,
     "metadata": {},
     "output_type": "execute_result"
    }
   ],
   "source": [
    "torch.rand(5, 5)"
   ]
  },
  {
   "cell_type": "code",
   "execution_count": 8,
   "metadata": {
    "id": "0WfcgzyxWarY"
   },
   "outputs": [],
   "source": [
    "## torch.ones"
   ]
  },
  {
   "cell_type": "code",
   "execution_count": 9,
   "metadata": {
    "id": "wOnhDnj3Swbp"
   },
   "outputs": [
    {
     "data": {
      "text/plain": [
       "tensor([1., 1., 1., 1., 1.])"
      ]
     },
     "execution_count": 9,
     "metadata": {},
     "output_type": "execute_result"
    }
   ],
   "source": [
    "torch.ones(5)"
   ]
  },
  {
   "cell_type": "code",
   "execution_count": 10,
   "metadata": {
    "id": "KkhPfbh1S1a_"
   },
   "outputs": [
    {
     "data": {
      "text/plain": [
       "tensor([[1., 1., 1., 1., 1.],\n",
       "        [1., 1., 1., 1., 1.],\n",
       "        [1., 1., 1., 1., 1.],\n",
       "        [1., 1., 1., 1., 1.],\n",
       "        [1., 1., 1., 1., 1.]])"
      ]
     },
     "execution_count": 10,
     "metadata": {},
     "output_type": "execute_result"
    }
   ],
   "source": [
    "torch.ones(5, 5)"
   ]
  },
  {
   "cell_type": "code",
   "execution_count": 11,
   "metadata": {
    "id": "Gw4swCMfWeLd"
   },
   "outputs": [],
   "source": [
    "## torch.arange"
   ]
  },
  {
   "cell_type": "code",
   "execution_count": 3,
   "metadata": {
    "id": "URbcQaLtUpTk"
   },
   "outputs": [
    {
     "data": {
      "text/plain": [
       "tensor([1, 2, 3, 4, 5, 6, 7, 8, 9])"
      ]
     },
     "execution_count": 3,
     "metadata": {},
     "output_type": "execute_result"
    }
   ],
   "source": [
    "torch.arange(1, 10)"
   ]
  },
  {
   "cell_type": "code",
   "execution_count": 13,
   "metadata": {
    "id": "YULy_-0EWkyq"
   },
   "outputs": [],
   "source": [
    "## torch.tril"
   ]
  },
  {
   "cell_type": "code",
   "execution_count": 5,
   "metadata": {
    "id": "yRbtAahVSxpW"
   },
   "outputs": [
    {
     "name": "stdout",
     "output_type": "stream",
     "text": [
      "tensor([[0.8475, 0.0000, 0.0000, 0.0000, 0.0000],\n",
      "        [0.1402, 0.3179, 0.0000, 0.0000, 0.0000],\n",
      "        [0.4979, 0.0432, 0.3203, 0.0000, 0.0000],\n",
      "        [0.3994, 0.2619, 0.8413, 0.2218, 0.0000],\n",
      "        [0.9573, 0.2471, 0.5639, 0.9865, 0.9913]])\n"
     ]
    }
   ],
   "source": [
    "\"\"\"\n",
    "Creates a 5x5 lower triangular matrix with random values.\n",
    "\n",
    "This operation is a composition of two PyTorch functions:\n",
    "\n",
    "1. `torch.rand(5, 5)`:\n",
    "   - Creates a 2D tensor (a matrix) of size 5x5.\n",
    "   - Fills the tensor with random numbers sampled from a uniform\n",
    "     distribution on the interval [0, 1).\n",
    "\n",
    "2. `torch.tril(...)`:\n",
    "   - Takes the randomly generated 5x5 tensor as input.\n",
    "   - Returns a new tensor where all elements in the upper triangle\n",
    "     (above the main diagonal) are set to zero.\n",
    "   - The elements on the main diagonal and in the lower triangle\n",
    "     are kept from the original random tensor.\n",
    "\n",
    "The result is a lower triangular matrix, a common structure used for\n",
    "creating causal masks in transformer models.\n",
    "\"\"\"\n",
    "result = torch.tril(torch.rand(5, 5))\n",
    "\n",
    "print(result)"
   ]
  },
  {
   "cell_type": "code",
   "execution_count": 15,
   "metadata": {
    "id": "A_zCIZCoWmTx"
   },
   "outputs": [],
   "source": [
    "## torch.cat"
   ]
  },
  {
   "cell_type": "code",
   "execution_count": 6,
   "metadata": {
    "id": "MG_p0XTrTAjq"
   },
   "outputs": [],
   "source": [
    "tensor_a = torch.tensor([[1, 2], [3, 4]])\n",
    "tensor_b = torch.tensor([[5, 6], [7, 8]])"
   ]
  },
  {
   "cell_type": "code",
   "execution_count": 10,
   "metadata": {
    "id": "wqmuE7xZTadr"
   },
   "outputs": [
    {
     "name": "stdout",
     "output_type": "stream",
     "text": [
      "tensor([[1, 2],\n",
      "        [3, 4]])\n",
      "tensor([[5, 6],\n",
      "        [7, 8]])\n",
      "\n",
      "\n",
      "tensor([[1, 2],\n",
      "        [3, 4],\n",
      "        [5, 6],\n",
      "        [7, 8]])\n"
     ]
    }
   ],
   "source": [
    "# Concatenate along rows\n",
    "print(tensor_a)\n",
    "print(tensor_b)\n",
    "\n",
    "print(\"\\n\")\n",
    "\n",
    "res = torch.cat((tensor_a, tensor_b), dim=0)\n",
    "print(res)"
   ]
  },
  {
   "cell_type": "code",
   "execution_count": 11,
   "metadata": {
    "id": "x_PsFketTd_B"
   },
   "outputs": [
    {
     "data": {
      "text/plain": [
       "tensor([[1, 2, 5, 6],\n",
       "        [3, 4, 7, 8]])"
      ]
     },
     "execution_count": 11,
     "metadata": {},
     "output_type": "execute_result"
    }
   ],
   "source": [
    "# Concatenate along columns\n",
    "torch.cat((tensor_a, tensor_b), dim=1)"
   ]
  },
  {
   "cell_type": "code",
   "execution_count": 19,
   "metadata": {
    "id": "ml-6GaCkXAcw"
   },
   "outputs": [],
   "source": [
    "## tensor.view()"
   ]
  },
  {
   "cell_type": "code",
   "execution_count": 13,
   "metadata": {
    "id": "C6-KpX5EV18P"
   },
   "outputs": [
    {
     "data": {
      "text/plain": [
       "tensor([ 0,  1,  2,  3,  4,  5,  6,  7,  8,  9, 10, 11])"
      ]
     },
     "execution_count": 13,
     "metadata": {},
     "output_type": "execute_result"
    }
   ],
   "source": [
    "x = torch.arange(12)\n",
    "x"
   ]
  },
  {
   "cell_type": "code",
   "execution_count": 14,
   "metadata": {
    "id": "G87HQT9KT7pR"
   },
   "outputs": [
    {
     "data": {
      "text/plain": [
       "tensor([[ 0,  1,  2,  3],\n",
       "        [ 4,  5,  6,  7],\n",
       "        [ 8,  9, 10, 11]])"
      ]
     },
     "execution_count": 14,
     "metadata": {},
     "output_type": "execute_result"
    }
   ],
   "source": [
    "x_reshaped = x.view(3, 4)\n",
    "x_reshaped"
   ]
  },
  {
   "cell_type": "code",
   "execution_count": 15,
   "metadata": {
    "id": "p8Sce00zV9Zx"
   },
   "outputs": [
    {
     "data": {
      "text/plain": [
       "tensor([ 0,  1,  2,  3,  4,  5,  6,  7,  8,  9, 10, 11])"
      ]
     },
     "execution_count": 15,
     "metadata": {},
     "output_type": "execute_result"
    }
   ],
   "source": [
    "x_reshaped.view(12)"
   ]
  }
 ],
 "metadata": {
  "colab": {
   "provenance": []
  },
  "kernelspec": {
   "display_name": "Python (ml)",
   "language": "python",
   "name": "ml"
  },
  "language_info": {
   "codemirror_mode": {
    "name": "ipython",
    "version": 3
   },
   "file_extension": ".py",
   "mimetype": "text/x-python",
   "name": "python",
   "nbconvert_exporter": "python",
   "pygments_lexer": "ipython3",
   "version": "3.9.18"
  }
 },
 "nbformat": 4,
 "nbformat_minor": 4
}
