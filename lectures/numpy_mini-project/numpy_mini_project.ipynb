{
 "cells": [
  {
   "cell_type": "markdown",
   "metadata": {},
   "source": [
    "##### Mean Normalization\n",
    "\n",
    "In machine learning we use large amounts of data to train our models. Some machine learning algorithms may require that the data is *normalized* in order to work correctly. The idea of normalization, also known as *feature scaling*, is to ensure that all the data is on a similar scale, *i.e.* that all the data takes on a similar range of values. For example, we might have a dataset that has values between 0 and 5,000. By normalizing the data we can make the range of values be between 0 and 1.\n",
    "\n",
    "In this lab, you will be performing a different kind of feature scaling known as *mean normalization*. Mean normalization will scale the data, but instead of making the values be between 0 and 1, it will distribute the values evenly in some small interval around zero. For example, if we have a dataset that has values between 0 and 5,000, after mean normalization the range of values will be distributed in some small range around 0, for example between -3 to 3. Because the range of values are distributed evenly around zero, this guarantees that the average (mean) of all elements will be zero. Therefore, when you perform *mean normalization* your data will not only be scaled but it will also have an average of zero. \n",
    "\n",
    "##### To Do:\n",
    "\n",
    "You will start by importing NumPy and creating a rank 2 ndarray of random integers between 0 and 5,000 (inclusive) with 1000 rows and 20 columns. This array will simulate a dataset with a wide range of values. Fill in the code below"
   ]
  },
  {
   "cell_type": "code",
   "execution_count": 1,
   "metadata": {},
   "outputs": [
    {
     "name": "stdout",
     "output_type": "stream",
     "text": [
      "Shape of X is:  (1000, 20)\n"
     ]
    }
   ],
   "source": [
    "# import NumPy into Python\n",
    "import numpy as np\n",
    "\n",
    "# Create a 1000 x 20 ndarray with random integers in the half-open interval [0, 5001).\n",
    "X = np.random.randint(0,5001,size=(1000, 20))\n",
    "\n",
    "# print the shape of X\n",
    "print(\"Shape of X is: \", X.shape)"
   ]
  },
  {
   "cell_type": "markdown",
   "metadata": {},
   "source": [
    "Now that you created the array we will mean normalize it. We will perform mean normalization using the following equation:\n",
    "\n",
    "$$\\text{Norm\\_Col}_i = \\frac{\\text{Col}_i - \\mu_i}{\\sigma_i}$$\n",
    "\n",
    "where $\\text{Col}_i$ is the $i_{th}$ column of $X$, $\\mu_i$ is average of the values in the $i_{th}$ column of $X$, and $\\sigma_i$ is the standard deviation of the values in the $i_{th}$ column of $X$. In other words, mean normalization is performed by subtracting from each column of $X$ the average of its values, and then by dividing by the standard deviation of its values. In the space below, you will first calculate the average and standard deviation of each column of $X$."
   ]
  },
  {
   "cell_type": "code",
   "execution_count": 2,
   "metadata": {},
   "outputs": [],
   "source": [
    "# NumPy, axis=0 means column-wise (vertical) operation for 2D arrays. Here's the breakdown:\n",
    "\n",
    "# For a 2D array X with shape (rows, columns):\n",
    "\n",
    "# axis=0 → Vertical (down each column)\n",
    "# axis=1 → Horizontal (across each row)\n",
    "\n",
    "# Average of the values in each column of X\n",
    "ave_cols = np.mean(X, axis=0)\n",
    "\n",
    "# Standard Deviation of the values in each column of X\n",
    "std_cols = np.std(X, axis=0)"
   ]
  },
  {
   "cell_type": "markdown",
   "metadata": {},
   "source": [
    "If you have done the above calculations correctly, then `ave_cols` and `std_cols`, should both be vectors with shape `(20,)` since $X$ has 20 columns. You can verify this by filling the code below:"
   ]
  },
  {
   "cell_type": "code",
   "execution_count": 3,
   "metadata": {},
   "outputs": [
    {
     "name": "stdout",
     "output_type": "stream",
     "text": [
      "The shape of ave_cols is:  (20,)\n",
      "The shape of std_cols is:  (20,)\n"
     ]
    }
   ],
   "source": [
    "# Print the shape of ave_cols\n",
    "print(\"The shape of ave_cols is: \", ave_cols.shape)\n",
    "\n",
    "# Print the shape of std_cols\n",
    "print(\"The shape of std_cols is: \", std_cols.shape)"
   ]
  },
  {
   "cell_type": "markdown",
   "metadata": {},
   "source": [
    "\n",
    "---\n",
    "\n",
    "When you perform aggregation operations like calculating the mean or standard deviation along an axis, NumPy, by default, removes that dimension from the output array's shape.\n",
    "\n",
    "### The Default Behavior\n",
    "\n",
    "If you have a 2D array and you compute the average of each column (`axis=0`), the result is a 1D array (a vector). The shape `(20,)` represents a 1D array with 20 elements. NumPy \"squeezes\" out the dimension you just aggregated over.\n",
    "\n",
    "### How to Keep the Dimension\n",
    "\n",
    "If you want to maintain the number of dimensions and get a shape of `(1, 20)` or `(20, 1)`, you can use the `keepdims=True` argument in your function call.\n",
    "\n",
    "Here's an example:\n",
    "\n",
    "```python\n",
    "import numpy as np\n",
    "\n",
    "# Let's assume your original data has a shape like (100, 20)\n",
    "data = np.random.rand(100, 20)\n",
    "\n",
    "# Default behavior: returns a 1D array\n",
    "ave_cols_squeezed = np.mean(data, axis=0)\n",
    "print(\"Default shape:\", ave_cols_squeezed.shape) # Prints (20,)\n",
    "\n",
    "# With keepdims=True: returns a 2D array\n",
    "ave_cols_kept = np.mean(data, axis=0, keepdims=True)\n",
    "print(\"Kept-dims shape:\", ave_cols_kept.shape) # Prints (1, 20)\n",
    "```\n",
    "\n",
    "### Getting `(20, 1)`\n",
    "\n",
    "`keepdims=True` will produce a shape of `(1, 20)` because you aggregated along the rows (axis 0). To get the `(20, 1)` shape you're asking for, you can simply **reshape** the result or **transpose** it.\n",
    "\n",
    "**1. Reshape:**\n",
    "```python\n",
    "ave_cols_reshaped = ave_cols_squeezed.reshape(20, 1)\n",
    "print(\"Reshaped shape:\", ave_cols_reshaped.shape) # Prints (20, 1)\n",
    "```\n",
    "\n",
    "**2. Transpose:**\n",
    "```python\n",
    "ave_cols_transposed = ave_cols_kept.T\n",
    "print(\"Transposed shape:\", ave_cols_transposed.shape) # Prints (20, 1)\n",
    "```\n",
    "\n",
    "Using `keepdims=True` is often useful when you need to perform further broadcasting operations between the original array and the aggregated result.\n",
    "\n",
    "---\n"
   ]
  },
  {
   "cell_type": "markdown",
   "metadata": {},
   "source": [
    "You can now take advantage of Broadcasting to calculate the mean normalized version of $X$ in just one line of code using the equation above. Fill in the code below"
   ]
  },
  {
   "cell_type": "code",
   "execution_count": 5,
   "metadata": {},
   "outputs": [
    {
     "name": "stdout",
     "output_type": "stream",
     "text": [
      "(1000, 20)\n"
     ]
    }
   ],
   "source": [
    "# Mean normalize X\n",
    "X_norm = (X - ave_cols) / std_cols\n",
    "\n",
    "print(X_norm.shape)"
   ]
  },
  {
   "cell_type": "markdown",
   "metadata": {},
   "source": [
    "If you have performed the mean normalization correctly, then the average of all the elements in $X_{\\text{norm}}$ should be close to zero, and they should be evenly distributed in some small interval around zero. You can verify this by filing the code below:"
   ]
  },
  {
   "cell_type": "code",
   "execution_count": 7,
   "metadata": {},
   "outputs": [
    {
     "name": "stdout",
     "output_type": "stream",
     "text": [
      "The average of all the values of X_norm is: \n",
      "-2.7711166694643906e-17\n",
      "-2.7711166694643906e-17\n",
      "\n",
      "----------------\n",
      "The average of the minimum value in each column of X_norm is: \n",
      "-1.7236340102423593\n",
      "-1.7236340102423593\n",
      "\n",
      "----------------\n",
      "The average of the maximum value in each column of X_norm is: \n",
      "1.7327599825896876\n",
      "1.7327599825896876\n"
     ]
    }
   ],
   "source": [
    "# Print the average of all the values of X_norm\n",
    "# You can use either the function or a method. So, there are multiple ways to solve. \n",
    "print(\"The average of all the values of X_norm is: \")\n",
    "print(np.mean(X_norm))\n",
    "print(X_norm.mean())\n",
    "print(\"\\n----------------\")\n",
    "\n",
    "# Print the average of the minimum value in each column of X_norm\n",
    "print(\"The average of the minimum value in each column of X_norm is: \")\n",
    "print(X_norm.min(axis = 0).mean())\n",
    "print(np.mean(np.sort(X_norm, axis=0)[0]))\n",
    "print(\"\\n----------------\")\n",
    "\n",
    "# Print the average of the maximum value in each column of X_norm\n",
    "print(\"The average of the maximum value in each column of X_norm is: \")\n",
    "print(np.mean(np.sort(X_norm, axis=0)[-1]))\n",
    "print(X_norm.max(axis = 0).mean())"
   ]
  },
  {
   "cell_type": "markdown",
   "metadata": {},
   "source": [
    "You should note that since $X$ was created using random integers, the above values will vary. \n",
    "\n",
    "# Data Separation\n",
    "\n",
    "After the data has been mean normalized, it is customary in machine learnig to split our dataset into three sets:\n",
    "\n",
    "1. A Training Set\n",
    "2. A Cross Validation Set\n",
    "3. A Test Set\n",
    "\n",
    "The dataset is usually divided such that the Training Set contains 60% of the data, the Cross Validation Set contains 20% of the data, and the Test Set contains 20% of the data. \n",
    "\n",
    "In this part of the lab you will separate `X_norm` into a Training Set, Cross Validation Set, and a Test Set. Each data set will contain rows of `X_norm` chosen at random, making sure that we don't pick the same row twice. This will guarantee that all the rows of `X_norm` are chosen and randomly distributed among the three new sets.\n",
    "\n",
    "You will start by creating a rank 1 ndarray that contains a random permutation of the row indices of `X_norm`. You can do this by using the `np.random.permutation()` function. The `np.random.permutation(N)` function creates a random permutation of integers from 0 to `N - 1`. Let's see an example:"
   ]
  },
  {
   "cell_type": "code",
   "execution_count": 17,
   "metadata": {},
   "outputs": [
    {
     "data": {
      "text/plain": [
       "array([0, 2, 4, 1, 3])"
      ]
     },
     "execution_count": 17,
     "metadata": {},
     "output_type": "execute_result"
    }
   ],
   "source": [
    "# We create a random permutation of integers 0 to 4\n",
    "np.random.permutation(5)"
   ]
  },
  {
   "cell_type": "markdown",
   "metadata": {},
   "source": [
    "In the space below create a rank 1 ndarray that contains a random permutation of the row indices of `X_norm`. You can do this in one line of code by extracting the number of rows of `X_norm` using the `shape` attribute and then passing it to the  `np.random.permutation()` function. Remember the `shape` attribute returns a tuple with two numbers in the form `(rows,columns)`."
   ]
  },
  {
   "cell_type": "code",
   "execution_count": 19,
   "metadata": {},
   "outputs": [
    {
     "name": "stdout",
     "output_type": "stream",
     "text": [
      "rows number 1000\n"
     ]
    }
   ],
   "source": [
    "print(\"rows number\", X_norm.shape[0])\n",
    "\n",
    "# Create a rank 1 ndarray that contains a random permutation of the row indices of `X_norm`\n",
    "row_indices = np.random.permutation(X_norm.shape[0])"
   ]
  },
  {
   "cell_type": "markdown",
   "metadata": {},
   "source": [
    "Now you can create the three datasets using the `row_indices` ndarray to select the rows that will go into each dataset. Rememeber that the Training Set contains 60% of the data, the Cross Validation Set contains 20% of the data, and the Test Set contains 20% of the data. Each set requires just one line of code to create. Fill in the code below"
   ]
  },
  {
   "cell_type": "code",
   "execution_count": 21,
   "metadata": {},
   "outputs": [
    {
     "name": "stdout",
     "output_type": "stream",
     "text": [
      "X_train shape: (600, 20) \n",
      "\n",
      "X_crossVal shape: (200, 20) \n",
      "\n",
      "X_test shape: (200, 20)\n"
     ]
    }
   ],
   "source": [
    "# Make any necessary calculations.\n",
    "# You can save your calculations into variables to use later.\n",
    "\n",
    "# You have to extract the number of rows in each set using row_indices.\n",
    "# Note that the row_indices are random integers in a 1-D array. \n",
    "# Hence, if you use row_indices for slicing, it will NOT give the correct result.\n",
    "\n",
    "# Let's get the count of 60% rows. Since, len(X_norm) has a lenght 1000, therefore, 60% = 600\n",
    "sixty = int(len(X_norm) * 0.6)\n",
    "\n",
    "# Let's get the count of 80% rows\n",
    "eighty = int(len(X_norm) * 0.8)\n",
    "\n",
    "# Create a Training Set\n",
    "# Here row_indices[:sixty] will give you first 600 values, e.g., [93 255 976 505 281 292 977,.....]\n",
    "# Those 600 values will will be random, because row_indices is a 1-D array of random integers.\n",
    "# Next, extract all rows represented by these 600 indices, as X_norm[row_indices[:sixty], :]\n",
    "X_train = X_norm[row_indices[:sixty], :]\n",
    "print(\"X_train shape:\", X_train.shape, \"\\n\")\n",
    "\n",
    "# Create a Cross Validation Set\n",
    "X_crossVal = X_norm[row_indices[sixty: eighty], :]\n",
    "print(\"X_crossVal shape:\", X_crossVal.shape, \"\\n\")\n",
    "\n",
    "# Create a Test Set\n",
    "X_test = X_norm[row_indices[eighty: ], :]\n",
    "print(\"X_test shape:\", X_test.shape)"
   ]
  },
  {
   "cell_type": "markdown",
   "metadata": {},
   "source": [
    "If you performed the above calculations correctly, then `X_tain` should have 600 rows and 20 columns, `X_crossVal` should have 200 rows and 20 columns, and `X_test` should have 200 rows and 20 columns. You can verify this by filling the code below:"
   ]
  },
  {
   "cell_type": "code",
   "execution_count": 12,
   "metadata": {},
   "outputs": [
    {
     "name": "stdout",
     "output_type": "stream",
     "text": [
      "(600, 20)\n",
      "(200, 20)\n",
      "(200, 20)\n"
     ]
    }
   ],
   "source": [
    "# Print the shape of X_train\n",
    "print(X_train.shape)\n",
    "\n",
    "# Print the shape of X_crossVal\n",
    "print(X_crossVal.shape)\n",
    "\n",
    "# Print the shape of X_test\n",
    "print(X_test.shape)"
   ]
  }
 ],
 "metadata": {
  "kernelspec": {
   "display_name": "Python (ml)",
   "language": "python",
   "name": "ml"
  },
  "language_info": {
   "codemirror_mode": {
    "name": "ipython",
    "version": 3
   },
   "file_extension": ".py",
   "mimetype": "text/x-python",
   "name": "python",
   "nbconvert_exporter": "python",
   "pygments_lexer": "ipython3",
   "version": "3.9.18"
  }
 },
 "nbformat": 4,
 "nbformat_minor": 2
}
