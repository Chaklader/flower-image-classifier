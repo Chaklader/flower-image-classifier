{
 "cells": [
  {
   "cell_type": "markdown",
   "metadata": {},
   "source": [
    "Cross-entropy is a loss (cost) function that measures how well a set of predicted probabilities P matches the true labels Y.\n",
    "\n",
    "For binary classification (labels 0 or 1) the formula is\n",
    "\n",
    "L(Y,P) = - Σ [ Y · log P + (1-Y) · log (1-P) ]\n",
    "\n",
    "where\n",
    "· Y is the true label (1 = positive, 0 = negative)\n",
    "· P is the model's predicted probability that the label is 1\n",
    "· The sum Σ runs over all samples.\n",
    "\n",
    "Key points\n",
    "· If the prediction is perfect (P ≈ 1 when Y = 1, or P ≈ 0 when Y = 0) the loss is near 0.\n",
    "· Confident wrong predictions (e.g. P ≈ 1 when Y = 0) incur a very large loss because log(0) → -∞.\n",
    "· Cross-entropy is convex for logistic regression, giving smooth gradients for optimisation.\n",
    "\n",
    "The code you posted implements this exactly:\n",
    "\n",
    "```python\n",
    "return -np.sum(Y * np.log(P) + (1 - Y) * np.log(1 - P))\n",
    "```\n",
    "\n",
    "It converts Y and P to floats, takes element-wise logs, multiplies by the appropriate label term, sums over all samples, and returns the negative of that sum (so lower is better)."
   ]
  },
  {
   "cell_type": "code",
   "execution_count": 1,
   "metadata": {},
   "outputs": [
    {
     "name": "stdout",
     "output_type": "stream",
     "text": []
    }
   ],
   "source": [
    "import numpy as np\n",
    "\n",
    "def cross_entropy(Y, P):\n",
    "    Y = np.float_(Y)\n",
    "    P = np.float_(P)\n",
    "    return -np.sum(Y  *np.log(P) + (1 - Y)*  np.log(1 - P))\n"
   ]
  }
 ],
 "metadata": {
  "kernelspec": {
   "display_name": "Python 3 (ipykernel)",
   "language": "python",
   "name": "python3"
  },
  "language_info": {
   "codemirror_mode": {
    "name": "ipython",
    "version": 3
   },
   "file_extension": ".py",
   "mimetype": "text/x-python",
   "name": "python",
   "nbconvert_exporter": "python",
   "pygments_lexer": "ipython3",
   "version": "3.10.13"
  }
 },
 "nbformat": 4,
 "nbformat_minor": 2
}
